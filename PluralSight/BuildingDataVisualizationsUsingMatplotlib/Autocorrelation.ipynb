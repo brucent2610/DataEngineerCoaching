{
 "cells": [
  {
   "cell_type": "code",
   "execution_count": 1,
   "id": "f818080c",
   "metadata": {},
   "outputs": [
    {
     "data": {
      "text/plain": [
       "True"
      ]
     },
     "execution_count": 1,
     "metadata": {},
     "output_type": "execute_result"
    }
   ],
   "source": [
    "import matplotlib\n",
    "import matplotlib.pyplot as plt\n",
    "import numpy as np\n",
    "import pandas as pd\n",
    "\n",
    "plt.ion()\n",
    "matplotlib.is_interactive()"
   ]
  },
  {
   "cell_type": "code",
   "execution_count": 2,
   "id": "47d0b5b6",
   "metadata": {},
   "outputs": [
    {
     "data": {
      "text/html": [
       "<div>\n",
       "<style scoped>\n",
       "    .dataframe tbody tr th:only-of-type {\n",
       "        vertical-align: middle;\n",
       "    }\n",
       "\n",
       "    .dataframe tbody tr th {\n",
       "        vertical-align: top;\n",
       "    }\n",
       "\n",
       "    .dataframe thead th {\n",
       "        text-align: right;\n",
       "    }\n",
       "</style>\n",
       "<table border=\"1\" class=\"dataframe\">\n",
       "  <thead>\n",
       "    <tr style=\"text-align: right;\">\n",
       "      <th></th>\n",
       "      <th>Month</th>\n",
       "      <th>NumVisits</th>\n",
       "    </tr>\n",
       "  </thead>\n",
       "  <tbody>\n",
       "    <tr>\n",
       "      <th>0</th>\n",
       "      <td>2011-01</td>\n",
       "      <td>139029</td>\n",
       "    </tr>\n",
       "    <tr>\n",
       "      <th>1</th>\n",
       "      <td>2011-02</td>\n",
       "      <td>120726</td>\n",
       "    </tr>\n",
       "    <tr>\n",
       "      <th>2</th>\n",
       "      <td>2011-03</td>\n",
       "      <td>304583</td>\n",
       "    </tr>\n",
       "    <tr>\n",
       "      <th>3</th>\n",
       "      <td>2011-04</td>\n",
       "      <td>388363</td>\n",
       "    </tr>\n",
       "    <tr>\n",
       "      <th>4</th>\n",
       "      <td>2011-05</td>\n",
       "      <td>419569</td>\n",
       "    </tr>\n",
       "  </tbody>\n",
       "</table>\n",
       "</div>"
      ],
      "text/plain": [
       "     Month  NumVisits\n",
       "0  2011-01     139029\n",
       "1  2011-02     120726\n",
       "2  2011-03     304583\n",
       "3  2011-04     388363\n",
       "4  2011-05     419569"
      ]
     },
     "execution_count": 2,
     "metadata": {},
     "output_type": "execute_result"
    }
   ],
   "source": [
    "grand_canyon_data = pd.read_csv(\"./files/grand_canyon_visits.csv\")\n",
    "grand_canyon_data.head()"
   ]
  },
  {
   "cell_type": "code",
   "execution_count": 3,
   "id": "de46d5fe",
   "metadata": {},
   "outputs": [
    {
     "data": {
      "text/plain": [
       "count        84.000000\n",
       "mean     426022.928571\n",
       "std      193415.223338\n",
       "min      120726.000000\n",
       "25%      252250.500000\n",
       "50%      417966.000000\n",
       "75%      580652.250000\n",
       "max      839086.000000\n",
       "Name: NumVisits, dtype: float64"
      ]
     },
     "execution_count": 3,
     "metadata": {},
     "output_type": "execute_result"
    }
   ],
   "source": [
    "grand_canyon_data[\"NumVisits\"].describe()"
   ]
  },
  {
   "cell_type": "code",
   "execution_count": 4,
   "id": "ccd94f28",
   "metadata": {},
   "outputs": [
    {
     "data": {
      "text/plain": [
       "count     84.000000\n",
       "mean     426.022929\n",
       "std      193.415223\n",
       "min      120.726000\n",
       "25%      252.250500\n",
       "50%      417.966000\n",
       "75%      580.652250\n",
       "max      839.086000\n",
       "Name: NumVisits, dtype: float64"
      ]
     },
     "execution_count": 4,
     "metadata": {},
     "output_type": "execute_result"
    }
   ],
   "source": [
    "grand_canyon_data[\"NumVisits\"] = grand_canyon_data[\"NumVisits\"] / 1000\n",
    "grand_canyon_data[\"NumVisits\"].describe()"
   ]
  },
  {
   "cell_type": "code",
   "execution_count": 7,
   "id": "72db7e59",
   "metadata": {},
   "outputs": [
    {
     "data": {
      "image/png": "[encoded data removed]",
      "text/plain": [
       "<Figure size 1152x576 with 1 Axes>"
      ]
     },
     "metadata": {
      "needs_background": "light"
     },
     "output_type": "display_data"
    }
   ],
   "source": [
    "plt.figure(figsize=(16,8))\n",
    "plt.acorr(grand_canyon_data[\"NumVisits\"], maxlags=20)\n",
    "plt.show()"
   ]
  },
  {
   "cell_type": "code",
   "execution_count": 9,
   "id": "8ce838fe",
   "metadata": {
    "scrolled": true
   },
   "outputs": [
    {
     "name": "stdout",
     "output_type": "stream",
     "text": [
      "lags [-20 -19 -18 -17 -16 -15 -14 -13 -12 -11 -10  -9  -8  -7  -6  -5  -4  -3\n",
      "  -2  -1   0   1   2   3   4   5   6   7   8   9  10  11  12  13  14  15\n",
      "  16  17  18  19  20]\n",
      "c [0.56166264 0.54072849 0.5381979  0.57639987 0.63280631 0.69975398\n",
      " 0.76391559 0.81323426 0.84039608 0.8197005  0.77609889 0.72908631\n",
      " 0.68254819 0.65371235 0.6512621  0.69174525 0.75661649 0.8324754\n",
      " 0.90648833 0.96441788 1.         0.96441788 0.90648833 0.8324754\n",
      " 0.75661649 0.69174525 0.6512621  0.65371235 0.68254819 0.72908631\n",
      " 0.77609889 0.8197005  0.84039608 0.81323426 0.76391559 0.69975398\n",
      " 0.63280631 0.57639987 0.5381979  0.54072849 0.56166264]\n",
      "vlines <matplotlib.collections.LineCollection object at 0x130eb3220>\n",
      "hlines Line2D(_line0)\n"
     ]
    },
    {
     "data": {
      "image/png": "[encoded data removed]",
      "text/plain": [
       "<Figure size 1152x576 with 1 Axes>"
      ]
     },
     "metadata": {
      "needs_background": "light"
     },
     "output_type": "display_data"
    }
   ],
   "source": [
    "plt.figure(figsize=(16,8))\n",
    "lags, c, vlines, hlines = plt.acorr(grand_canyon_data[\"NumVisits\"], maxlags=20)\n",
    "\n",
    "print(\"lags\", lags)\n",
    "print(\"c\", c)\n",
    "print(\"vlines\", vlines)\n",
    "print(\"hlines\", hlines)"
   ]
  },
  {
   "cell_type": "code",
   "execution_count": null,
   "id": "a6ed0abf",
   "metadata": {},
   "outputs": [],
   "source": [
    "|"
   ]
  }
 ],
 "metadata": {
  "kernelspec": {
   "display_name": "Python 3",
   "language": "python",
   "name": "python3"
  },
  "language_info": {
   "codemirror_mode": {
    "name": "ipython",
    "version": 3
   },
   "file_extension": ".py",
   "mimetype": "text/x-python",
   "name": "python",
   "nbconvert_exporter": "python",
   "pygments_lexer": "ipython3",
   "version": "3.8.16"
  }
 },
 "nbformat": 4,
 "nbformat_minor": 5
}
