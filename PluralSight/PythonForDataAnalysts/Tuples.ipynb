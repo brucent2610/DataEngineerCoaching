{
 "cells": [
  {
   "cell_type": "code",
   "execution_count": 1,
   "id": "bf3df699",
   "metadata": {},
   "outputs": [],
   "source": [
    "empty_tuple = ()"
   ]
  },
  {
   "cell_type": "code",
   "execution_count": 2,
   "id": "cc12958e",
   "metadata": {},
   "outputs": [
    {
     "name": "stdout",
     "output_type": "stream",
     "text": [
      "()\n"
     ]
    }
   ],
   "source": [
    "print(empty_tuple)"
   ]
  },
  {
   "cell_type": "code",
   "execution_count": 3,
   "id": "af3fabfa",
   "metadata": {},
   "outputs": [
    {
     "data": {
      "text/plain": [
       "tuple"
      ]
     },
     "execution_count": 3,
     "metadata": {},
     "output_type": "execute_result"
    }
   ],
   "source": [
    "type(empty_tuple)"
   ]
  },
  {
   "cell_type": "code",
   "execution_count": 4,
   "id": "3f9b15c1",
   "metadata": {},
   "outputs": [
    {
     "data": {
      "text/plain": [
       "tuple"
      ]
     },
     "execution_count": 4,
     "metadata": {},
     "output_type": "execute_result"
    }
   ],
   "source": [
    "children_books = (\"Timmy Failure\", \"Diary of a Wimpy Kid\", \"Calvin and Hobbes\")\n",
    "type(children_books)"
   ]
  },
  {
   "cell_type": "code",
   "execution_count": 5,
   "id": "00654911",
   "metadata": {},
   "outputs": [
    {
     "ename": "AttributeError",
     "evalue": "'tuple' object has no attribute 'append'",
     "output_type": "error",
     "traceback": [
      "\u001b[0;31m---------------------------------------------------------------------------\u001b[0m",
      "\u001b[0;31mAttributeError\u001b[0m                            Traceback (most recent call last)",
      "\u001b[0;32m<ipython-input-5-bb3cbebac0e7>\u001b[0m in \u001b[0;36m<module>\u001b[0;34m\u001b[0m\n\u001b[0;32m----> 1\u001b[0;31m \u001b[0mchildren_books\u001b[0m\u001b[0;34m.\u001b[0m\u001b[0mappend\u001b[0m\u001b[0;34m(\u001b[0m\u001b[0;34m\"Geronimo Stilton\"\u001b[0m\u001b[0;34m)\u001b[0m\u001b[0;34m\u001b[0m\u001b[0;34m\u001b[0m\u001b[0m\n\u001b[0m",
      "\u001b[0;31mAttributeError\u001b[0m: 'tuple' object has no attribute 'append'"
     ]
    }
   ],
   "source": [
    "children_books.append(\"Geronimo Stilton\")"
   ]
  },
  {
   "cell_type": "code",
   "execution_count": 6,
   "id": "3da1f011",
   "metadata": {},
   "outputs": [
    {
     "data": {
      "text/plain": [
       "('Timmy Failure', 'Diary of a Wimpy Kid', 'Calvin and Hobbes')"
      ]
     },
     "execution_count": 6,
     "metadata": {},
     "output_type": "execute_result"
    }
   ],
   "source": [
    "children_books"
   ]
  },
  {
   "cell_type": "code",
   "execution_count": 7,
   "id": "60b5d423",
   "metadata": {},
   "outputs": [
    {
     "data": {
      "text/plain": [
       "'Timmy Failure'"
      ]
     },
     "execution_count": 7,
     "metadata": {},
     "output_type": "execute_result"
    }
   ],
   "source": [
    "children_books[0]"
   ]
  },
  {
   "cell_type": "code",
   "execution_count": 8,
   "id": "46d5034f",
   "metadata": {},
   "outputs": [
    {
     "ename": "IndexError",
     "evalue": "tuple index out of range",
     "output_type": "error",
     "traceback": [
      "\u001b[0;31m---------------------------------------------------------------------------\u001b[0m",
      "\u001b[0;31mIndexError\u001b[0m                                Traceback (most recent call last)",
      "\u001b[0;32m<ipython-input-8-fc01110da05a>\u001b[0m in \u001b[0;36m<module>\u001b[0;34m\u001b[0m\n\u001b[0;32m----> 1\u001b[0;31m \u001b[0mchildren_books\u001b[0m\u001b[0;34m[\u001b[0m\u001b[0;36m5\u001b[0m\u001b[0;34m]\u001b[0m\u001b[0;34m\u001b[0m\u001b[0;34m\u001b[0m\u001b[0m\n\u001b[0m",
      "\u001b[0;31mIndexError\u001b[0m: tuple index out of range"
     ]
    }
   ],
   "source": [
    "children_books[5]"
   ]
  },
  {
   "cell_type": "code",
   "execution_count": 9,
   "id": "f132d7f3",
   "metadata": {},
   "outputs": [
    {
     "ename": "TypeError",
     "evalue": "'tuple' object does not support item assignment",
     "output_type": "error",
     "traceback": [
      "\u001b[0;31m---------------------------------------------------------------------------\u001b[0m",
      "\u001b[0;31mTypeError\u001b[0m                                 Traceback (most recent call last)",
      "\u001b[0;32m<ipython-input-9-2406e67f1171>\u001b[0m in \u001b[0;36m<module>\u001b[0;34m\u001b[0m\n\u001b[0;32m----> 1\u001b[0;31m \u001b[0mchildren_books\u001b[0m\u001b[0;34m[\u001b[0m\u001b[0;36m0\u001b[0m\u001b[0;34m]\u001b[0m \u001b[0;34m=\u001b[0m \u001b[0;34m\"Geronimo Stilton\"\u001b[0m\u001b[0;34m\u001b[0m\u001b[0;34m\u001b[0m\u001b[0m\n\u001b[0m",
      "\u001b[0;31mTypeError\u001b[0m: 'tuple' object does not support item assignment"
     ]
    }
   ],
   "source": [
    "children_books[0] = \"Geronimo Stilton\""
   ]
  },
  {
   "cell_type": "code",
   "execution_count": 10,
   "id": "4db6698f",
   "metadata": {},
   "outputs": [
    {
     "data": {
      "text/plain": [
       "('Timmy Failure', 'Diary of a Wimpy Kid')"
      ]
     },
     "execution_count": 10,
     "metadata": {},
     "output_type": "execute_result"
    }
   ],
   "source": [
    "children_books[0:2]"
   ]
  },
  {
   "cell_type": "code",
   "execution_count": 11,
   "id": "82c79100",
   "metadata": {},
   "outputs": [
    {
     "data": {
      "text/plain": [
       "('b', 'e', 'd', 's', 'h', 'e', 'e', 't')"
      ]
     },
     "execution_count": 11,
     "metadata": {},
     "output_type": "execute_result"
    }
   ],
   "source": [
    "character_tuple = tuple(\"bedsheet\")\n",
    "character_tuple"
   ]
  },
  {
   "cell_type": "code",
   "execution_count": 13,
   "id": "b6d28348",
   "metadata": {},
   "outputs": [
    {
     "data": {
      "text/plain": [
       "('Apple', 'Banana', 'Orange', 'WaterMelon')"
      ]
     },
     "execution_count": 13,
     "metadata": {},
     "output_type": "execute_result"
    }
   ],
   "source": [
    "fruits_list = [\"Apple\", \"Banana\", \"Orange\", \"WaterMelon\"]\n",
    "fruits_tuple = tuple(fruits_list)\n",
    "fruits_tuple"
   ]
  },
  {
   "cell_type": "code",
   "execution_count": 14,
   "id": "c6ca61c3",
   "metadata": {},
   "outputs": [
    {
     "data": {
      "text/plain": [
       "True"
      ]
     },
     "execution_count": 14,
     "metadata": {},
     "output_type": "execute_result"
    }
   ],
   "source": [
    "\"Apple\" in fruits_tuple"
   ]
  },
  {
   "cell_type": "code",
   "execution_count": 15,
   "id": "ca5748e8",
   "metadata": {},
   "outputs": [
    {
     "data": {
      "text/plain": [
       "False"
      ]
     },
     "execution_count": 15,
     "metadata": {},
     "output_type": "execute_result"
    }
   ],
   "source": [
    "\"Grape\" in fruits_tuple"
   ]
  },
  {
   "cell_type": "code",
   "execution_count": 16,
   "id": "9c63d596",
   "metadata": {},
   "outputs": [
    {
     "data": {
      "text/plain": [
       "True"
      ]
     },
     "execution_count": 16,
     "metadata": {},
     "output_type": "execute_result"
    }
   ],
   "source": [
    "\"Grape\" not in fruits_tuple"
   ]
  },
  {
   "cell_type": "code",
   "execution_count": null,
   "id": "1140a60e",
   "metadata": {},
   "outputs": [],
   "source": []
  }
 ],
 "metadata": {
  "kernelspec": {
   "display_name": "Python 3",
   "language": "python",
   "name": "python3"
  },
  "language_info": {
   "codemirror_mode": {
    "name": "ipython",
    "version": 3
   },
   "file_extension": ".py",
   "mimetype": "text/x-python",
   "name": "python",
   "nbconvert_exporter": "python",
   "pygments_lexer": "ipython3",
   "version": "3.8.16"
  }
 },
 "nbformat": 4,
 "nbformat_minor": 5
}
