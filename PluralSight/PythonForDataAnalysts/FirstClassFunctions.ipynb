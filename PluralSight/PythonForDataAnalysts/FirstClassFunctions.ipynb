{
 "cells": [
  {
   "cell_type": "code",
   "execution_count": 1,
   "id": "30b8b95d",
   "metadata": {},
   "outputs": [],
   "source": [
    "def my_car(car):\n",
    "    print(\"My car is a\", car)"
   ]
  },
  {
   "cell_type": "code",
   "execution_count": 2,
   "id": "34ea427e",
   "metadata": {},
   "outputs": [
    {
     "name": "stdout",
     "output_type": "stream",
     "text": [
      "My car is a Ford Endeavor\n"
     ]
    }
   ],
   "source": [
    "my_car(\"Ford Endeavor\")"
   ]
  },
  {
   "cell_type": "code",
   "execution_count": 3,
   "id": "7cbcfb52",
   "metadata": {},
   "outputs": [
    {
     "data": {
      "text/plain": [
       "<function __main__.my_car(car)>"
      ]
     },
     "execution_count": 3,
     "metadata": {},
     "output_type": "execute_result"
    }
   ],
   "source": [
    "my_car"
   ]
  },
  {
   "cell_type": "code",
   "execution_count": 4,
   "id": "096f7acc",
   "metadata": {},
   "outputs": [],
   "source": [
    "car_fn = my_car"
   ]
  },
  {
   "cell_type": "code",
   "execution_count": 5,
   "id": "bd21861d",
   "metadata": {},
   "outputs": [
    {
     "name": "stdout",
     "output_type": "stream",
     "text": [
      "My car is a Porsche\n"
     ]
    }
   ],
   "source": [
    "car_fn(\"Porsche\")"
   ]
  },
  {
   "cell_type": "code",
   "execution_count": 6,
   "id": "0e1b7eed",
   "metadata": {},
   "outputs": [],
   "source": [
    "maximum = max"
   ]
  },
  {
   "cell_type": "code",
   "execution_count": 7,
   "id": "7d1383a7",
   "metadata": {},
   "outputs": [
    {
     "data": {
      "text/plain": [
       "435"
      ]
     },
     "execution_count": 7,
     "metadata": {},
     "output_type": "execute_result"
    }
   ],
   "source": [
    "num_list = [1,32,435,22,123,435]\n",
    "maximum(num_list)"
   ]
  },
  {
   "cell_type": "code",
   "execution_count": 8,
   "id": "462bf6f8",
   "metadata": {},
   "outputs": [
    {
     "data": {
      "text/plain": [
       "True"
      ]
     },
     "execution_count": 8,
     "metadata": {},
     "output_type": "execute_result"
    }
   ],
   "source": [
    "maximum == max"
   ]
  },
  {
   "cell_type": "code",
   "execution_count": 9,
   "id": "f60535f5",
   "metadata": {},
   "outputs": [],
   "source": [
    "def calculate_GST(price, type_of_item):\n",
    "    if type_of_item == \"Product\":\n",
    "        return price * 1.05\n",
    "    if type_of_item == \"Service\":\n",
    "        return price * 1.18\n",
    "    return price * 1.35"
   ]
  },
  {
   "cell_type": "code",
   "execution_count": 10,
   "id": "a119e8a7",
   "metadata": {},
   "outputs": [],
   "source": [
    "def calculate_VAT(price, type_of_item):\n",
    "    return price * 1.2"
   ]
  },
  {
   "cell_type": "code",
   "execution_count": 11,
   "id": "fdc15e7c",
   "metadata": {},
   "outputs": [],
   "source": [
    "type_of_tax = calculate_GST"
   ]
  },
  {
   "cell_type": "code",
   "execution_count": 12,
   "id": "8701aca6",
   "metadata": {},
   "outputs": [
    {
     "data": {
      "text/plain": [
       "1050.0"
      ]
     },
     "execution_count": 12,
     "metadata": {},
     "output_type": "execute_result"
    }
   ],
   "source": [
    "type_of_tax(1000, \"Product\")"
   ]
  },
  {
   "cell_type": "code",
   "execution_count": 13,
   "id": "4b30c09b",
   "metadata": {},
   "outputs": [
    {
     "data": {
      "text/plain": [
       "1180.0"
      ]
     },
     "execution_count": 13,
     "metadata": {},
     "output_type": "execute_result"
    }
   ],
   "source": [
    "type_of_tax(1000, \"Service\")"
   ]
  },
  {
   "cell_type": "code",
   "execution_count": 14,
   "id": "734cd791",
   "metadata": {},
   "outputs": [],
   "source": [
    "type_of_tax = calculate_VAT"
   ]
  },
  {
   "cell_type": "code",
   "execution_count": 15,
   "id": "e50f1aec",
   "metadata": {},
   "outputs": [
    {
     "data": {
      "text/plain": [
       "1200.0"
      ]
     },
     "execution_count": 15,
     "metadata": {},
     "output_type": "execute_result"
    }
   ],
   "source": [
    "type_of_tax(1000, \"Product\")"
   ]
  },
  {
   "cell_type": "code",
   "execution_count": 16,
   "id": "e7a16a92",
   "metadata": {},
   "outputs": [
    {
     "data": {
      "text/plain": [
       "1200.0"
      ]
     },
     "execution_count": 16,
     "metadata": {},
     "output_type": "execute_result"
    }
   ],
   "source": [
    "type_of_tax(1000, \"Service\")"
   ]
  },
  {
   "cell_type": "code",
   "execution_count": 18,
   "id": "5253febc",
   "metadata": {},
   "outputs": [],
   "source": [
    "def find_tax_calculation(type_of_tax):\n",
    "    if type_of_tax == \"GST\":\n",
    "        return calculate_GST\n",
    "    elif type_of_tax == \"VAT\":\n",
    "        return calculate_VAT"
   ]
  },
  {
   "cell_type": "code",
   "execution_count": 20,
   "id": "6c30769e",
   "metadata": {},
   "outputs": [
    {
     "data": {
      "text/plain": [
       "<function __main__.calculate_GST(price, type_of_item)>"
      ]
     },
     "execution_count": 20,
     "metadata": {},
     "output_type": "execute_result"
    }
   ],
   "source": [
    "get_fn = find_tax_calculation(\"GST\")\n",
    "get_fn"
   ]
  },
  {
   "cell_type": "code",
   "execution_count": 21,
   "id": "0498bcd0",
   "metadata": {},
   "outputs": [
    {
     "data": {
      "text/plain": [
       "<function __main__.calculate_VAT(price, type_of_item)>"
      ]
     },
     "execution_count": 21,
     "metadata": {},
     "output_type": "execute_result"
    }
   ],
   "source": [
    "vat_fn = find_tax_calculation(\"VAT\")\n",
    "vat_fn"
   ]
  },
  {
   "cell_type": "code",
   "execution_count": 22,
   "id": "30885a93",
   "metadata": {},
   "outputs": [
    {
     "data": {
      "text/plain": [
       "1050.0"
      ]
     },
     "execution_count": 22,
     "metadata": {},
     "output_type": "execute_result"
    }
   ],
   "source": [
    "get_fn(1000, \"Product\")"
   ]
  },
  {
   "cell_type": "code",
   "execution_count": 23,
   "id": "45bc69db",
   "metadata": {},
   "outputs": [
    {
     "data": {
      "text/plain": [
       "1200.0"
      ]
     },
     "execution_count": 23,
     "metadata": {},
     "output_type": "execute_result"
    }
   ],
   "source": [
    "vat_fn(1000, \"Product\")"
   ]
  },
  {
   "cell_type": "code",
   "execution_count": null,
   "id": "f42fbb5b",
   "metadata": {},
   "outputs": [],
   "source": []
  }
 ],
 "metadata": {
  "kernelspec": {
   "display_name": "Python 3",
   "language": "python",
   "name": "python3"
  },
  "language_info": {
   "codemirror_mode": {
    "name": "ipython",
    "version": 3
   },
   "file_extension": ".py",
   "mimetype": "text/x-python",
   "name": "python",
   "nbconvert_exporter": "python",
   "pygments_lexer": "ipython3",
   "version": "3.8.16"
  }
 },
 "nbformat": 4,
 "nbformat_minor": 5
}
