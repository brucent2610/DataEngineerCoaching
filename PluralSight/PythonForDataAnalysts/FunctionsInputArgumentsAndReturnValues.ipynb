{
 "cells": [
  {
   "cell_type": "code",
   "execution_count": 2,
   "id": "cff01317",
   "metadata": {},
   "outputs": [
    {
     "name": "stdout",
     "output_type": "stream",
     "text": [
      "Hello!\n"
     ]
    }
   ],
   "source": [
    "print(\"Hello!\")"
   ]
  },
  {
   "cell_type": "code",
   "execution_count": 3,
   "id": "2921febc",
   "metadata": {},
   "outputs": [],
   "source": [
    "def do_something():\n",
    "    pass"
   ]
  },
  {
   "cell_type": "code",
   "execution_count": 4,
   "id": "91448b93",
   "metadata": {},
   "outputs": [],
   "source": [
    "do_something()"
   ]
  },
  {
   "cell_type": "code",
   "execution_count": 5,
   "id": "1b320f1d",
   "metadata": {},
   "outputs": [],
   "source": [
    "def greet():\n",
    "    print(\"Good Morning to you\")"
   ]
  },
  {
   "cell_type": "code",
   "execution_count": 6,
   "id": "46a62832",
   "metadata": {},
   "outputs": [
    {
     "name": "stdout",
     "output_type": "stream",
     "text": [
      "Good Morning to you\n"
     ]
    }
   ],
   "source": [
    "greet()"
   ]
  },
  {
   "cell_type": "code",
   "execution_count": 7,
   "id": "7b5beb3e",
   "metadata": {},
   "outputs": [
    {
     "name": "stdout",
     "output_type": "stream",
     "text": [
      "Good Morning to you\n"
     ]
    }
   ],
   "source": [
    "greet()"
   ]
  },
  {
   "cell_type": "code",
   "execution_count": 8,
   "id": "a85110b2",
   "metadata": {},
   "outputs": [
    {
     "ename": "NameError",
     "evalue": "name 'say_hello' is not defined",
     "output_type": "error",
     "traceback": [
      "\u001b[0;31m---------------------------------------------------------------------------\u001b[0m",
      "\u001b[0;31mNameError\u001b[0m                                 Traceback (most recent call last)",
      "\u001b[0;32m<ipython-input-8-faa5fc24272a>\u001b[0m in \u001b[0;36m<module>\u001b[0;34m\u001b[0m\n\u001b[0;32m----> 1\u001b[0;31m \u001b[0msay_hello\u001b[0m\u001b[0;34m(\u001b[0m\u001b[0;34m)\u001b[0m\u001b[0;34m\u001b[0m\u001b[0;34m\u001b[0m\u001b[0m\n\u001b[0m",
      "\u001b[0;31mNameError\u001b[0m: name 'say_hello' is not defined"
     ]
    }
   ],
   "source": [
    "say_hello()"
   ]
  },
  {
   "cell_type": "code",
   "execution_count": 9,
   "id": "b7d23288",
   "metadata": {},
   "outputs": [],
   "source": [
    "def say_hello():\n",
    "    print(\"Hello there\")"
   ]
  },
  {
   "cell_type": "code",
   "execution_count": 10,
   "id": "43e959cd",
   "metadata": {},
   "outputs": [
    {
     "name": "stdout",
     "output_type": "stream",
     "text": [
      "Hello there\n"
     ]
    }
   ],
   "source": [
    "say_hello()"
   ]
  },
  {
   "cell_type": "code",
   "execution_count": 11,
   "id": "01080be3",
   "metadata": {},
   "outputs": [
    {
     "ename": "NameError",
     "evalue": "name 'some_var' is not defined",
     "output_type": "error",
     "traceback": [
      "\u001b[0;31m---------------------------------------------------------------------------\u001b[0m",
      "\u001b[0;31mNameError\u001b[0m                                 Traceback (most recent call last)",
      "\u001b[0;32m<ipython-input-11-9c21af92efc9>\u001b[0m in \u001b[0;36m<module>\u001b[0;34m\u001b[0m\n\u001b[0;32m----> 1\u001b[0;31m \u001b[0mprint\u001b[0m\u001b[0;34m(\u001b[0m\u001b[0msome_var\u001b[0m\u001b[0;34m)\u001b[0m\u001b[0;34m\u001b[0m\u001b[0;34m\u001b[0m\u001b[0m\n\u001b[0m",
      "\u001b[0;31mNameError\u001b[0m: name 'some_var' is not defined"
     ]
    }
   ],
   "source": [
    "print(some_var)"
   ]
  },
  {
   "cell_type": "code",
   "execution_count": 13,
   "id": "c7ee9895",
   "metadata": {},
   "outputs": [],
   "source": [
    "def cause_error():\n",
    "    print(some_var)"
   ]
  },
  {
   "cell_type": "code",
   "execution_count": 15,
   "id": "4390478c",
   "metadata": {},
   "outputs": [
    {
     "ename": "NameError",
     "evalue": "name 'some_var' is not defined",
     "output_type": "error",
     "traceback": [
      "\u001b[0;31m---------------------------------------------------------------------------\u001b[0m",
      "\u001b[0;31mNameError\u001b[0m                                 Traceback (most recent call last)",
      "\u001b[0;32m<ipython-input-15-531731881f05>\u001b[0m in \u001b[0;36m<module>\u001b[0;34m\u001b[0m\n\u001b[0;32m----> 1\u001b[0;31m \u001b[0mcause_error\u001b[0m\u001b[0;34m(\u001b[0m\u001b[0;34m)\u001b[0m\u001b[0;34m\u001b[0m\u001b[0;34m\u001b[0m\u001b[0m\n\u001b[0m",
      "\u001b[0;32m<ipython-input-13-a709a5ca5897>\u001b[0m in \u001b[0;36mcause_error\u001b[0;34m()\u001b[0m\n\u001b[1;32m      1\u001b[0m \u001b[0;32mdef\u001b[0m \u001b[0mcause_error\u001b[0m\u001b[0;34m(\u001b[0m\u001b[0;34m)\u001b[0m\u001b[0;34m:\u001b[0m\u001b[0;34m\u001b[0m\u001b[0;34m\u001b[0m\u001b[0m\n\u001b[0;32m----> 2\u001b[0;31m     \u001b[0mprint\u001b[0m\u001b[0;34m(\u001b[0m\u001b[0msome_var\u001b[0m\u001b[0;34m)\u001b[0m\u001b[0;34m\u001b[0m\u001b[0;34m\u001b[0m\u001b[0m\n\u001b[0m",
      "\u001b[0;31mNameError\u001b[0m: name 'some_var' is not defined"
     ]
    }
   ],
   "source": [
    "cause_error()"
   ]
  },
  {
   "cell_type": "code",
   "execution_count": 16,
   "id": "e9099e8f",
   "metadata": {},
   "outputs": [],
   "source": [
    "some_var = \"Some stuff here\""
   ]
  },
  {
   "cell_type": "code",
   "execution_count": 17,
   "id": "170d7cff",
   "metadata": {},
   "outputs": [
    {
     "name": "stdout",
     "output_type": "stream",
     "text": [
      "Some stuff here\n"
     ]
    }
   ],
   "source": [
    "cause_error()"
   ]
  },
  {
   "cell_type": "code",
   "execution_count": 18,
   "id": "d371c928",
   "metadata": {},
   "outputs": [],
   "source": [
    "a = 2\n",
    "b = 3\n",
    "c = 4\n",
    "\n",
    "def calulate_sum():\n",
    "    result = a + b + c\n",
    "    print (\"Sum of a, b, c\", result)\n",
    "    if(result < 10):\n",
    "        print(\"The sum is less than 10!\")"
   ]
  },
  {
   "cell_type": "code",
   "execution_count": 19,
   "id": "43db64cf",
   "metadata": {},
   "outputs": [
    {
     "name": "stdout",
     "output_type": "stream",
     "text": [
      "Sum of a, b, c 9\n",
      "The sum is less than 10!\n"
     ]
    }
   ],
   "source": [
    "calulate_sum();"
   ]
  },
  {
   "cell_type": "code",
   "execution_count": 20,
   "id": "a66661bd",
   "metadata": {},
   "outputs": [],
   "source": [
    "a = 1"
   ]
  },
  {
   "cell_type": "code",
   "execution_count": 21,
   "id": "d1e3b3e0",
   "metadata": {},
   "outputs": [
    {
     "name": "stdout",
     "output_type": "stream",
     "text": [
      "Sum of a, b, c 8\n",
      "The sum is less than 10!\n"
     ]
    }
   ],
   "source": [
    "calulate_sum()"
   ]
  },
  {
   "cell_type": "code",
   "execution_count": 22,
   "id": "c9638e10",
   "metadata": {},
   "outputs": [],
   "source": [
    "b = 100"
   ]
  },
  {
   "cell_type": "code",
   "execution_count": 23,
   "id": "623e97d7",
   "metadata": {},
   "outputs": [
    {
     "name": "stdout",
     "output_type": "stream",
     "text": [
      "Sum of a, b, c 105\n"
     ]
    }
   ],
   "source": [
    "calulate_sum()"
   ]
  },
  {
   "cell_type": "code",
   "execution_count": 25,
   "id": "1c6fcaad",
   "metadata": {},
   "outputs": [],
   "source": [
    "def calulate_sum(a, b, c):\n",
    "    result = a + b + c\n",
    "    print (\"Sum of a, b, c is\", result)\n",
    "    if(result < 10):\n",
    "        print(\"The sum is less than 10!\")\n",
    "    else:\n",
    "        print(\"The sum is greater than 10!\")"
   ]
  },
  {
   "cell_type": "code",
   "execution_count": 26,
   "id": "971f4435",
   "metadata": {},
   "outputs": [
    {
     "ename": "TypeError",
     "evalue": "calulate_sum() missing 2 required positional arguments: 'b' and 'c'",
     "output_type": "error",
     "traceback": [
      "\u001b[0;31m---------------------------------------------------------------------------\u001b[0m",
      "\u001b[0;31mTypeError\u001b[0m                                 Traceback (most recent call last)",
      "\u001b[0;32m<ipython-input-26-e63f8a3aa209>\u001b[0m in \u001b[0;36m<module>\u001b[0;34m\u001b[0m\n\u001b[0;32m----> 1\u001b[0;31m \u001b[0mcalulate_sum\u001b[0m\u001b[0;34m(\u001b[0m\u001b[0;36m2\u001b[0m\u001b[0;34m)\u001b[0m\u001b[0;34m\u001b[0m\u001b[0;34m\u001b[0m\u001b[0m\n\u001b[0m",
      "\u001b[0;31mTypeError\u001b[0m: calulate_sum() missing 2 required positional arguments: 'b' and 'c'"
     ]
    }
   ],
   "source": [
    "calulate_sum(2)"
   ]
  },
  {
   "cell_type": "code",
   "execution_count": 27,
   "id": "383f3d50",
   "metadata": {},
   "outputs": [
    {
     "name": "stdout",
     "output_type": "stream",
     "text": [
      "Sum of a, b, c is 9\n",
      "The sum is less than 10!\n"
     ]
    }
   ],
   "source": [
    "calulate_sum(2,3,4)"
   ]
  },
  {
   "cell_type": "code",
   "execution_count": 28,
   "id": "8b7a0e97",
   "metadata": {},
   "outputs": [
    {
     "name": "stdout",
     "output_type": "stream",
     "text": [
      "Sum of a, b, c is 600\n",
      "The sum is greater than 10!\n"
     ]
    }
   ],
   "source": [
    "calulate_sum(100,200,300)"
   ]
  },
  {
   "cell_type": "code",
   "execution_count": 35,
   "id": "353267b8",
   "metadata": {},
   "outputs": [],
   "source": [
    "def raise_to_the_power(num, exponent):\n",
    "    power = num ** exponent\n",
    "    print(power)"
   ]
  },
  {
   "cell_type": "code",
   "execution_count": 36,
   "id": "3e3325c2",
   "metadata": {},
   "outputs": [
    {
     "name": "stdout",
     "output_type": "stream",
     "text": [
      "16\n"
     ]
    }
   ],
   "source": [
    "raise_to_the_power(4, 2)"
   ]
  },
  {
   "cell_type": "code",
   "execution_count": 37,
   "id": "a229b9e3",
   "metadata": {},
   "outputs": [
    {
     "ename": "TypeError",
     "evalue": "raise_to_the_power() missing 1 required positional argument: 'exponent'",
     "output_type": "error",
     "traceback": [
      "\u001b[0;31m---------------------------------------------------------------------------\u001b[0m",
      "\u001b[0;31mTypeError\u001b[0m                                 Traceback (most recent call last)",
      "\u001b[0;32m<ipython-input-37-b643503e5f86>\u001b[0m in \u001b[0;36m<module>\u001b[0;34m\u001b[0m\n\u001b[0;32m----> 1\u001b[0;31m \u001b[0mraise_to_the_power\u001b[0m\u001b[0;34m(\u001b[0m\u001b[0;36m10\u001b[0m\u001b[0;34m)\u001b[0m\u001b[0;34m\u001b[0m\u001b[0;34m\u001b[0m\u001b[0m\n\u001b[0m",
      "\u001b[0;31mTypeError\u001b[0m: raise_to_the_power() missing 1 required positional argument: 'exponent'"
     ]
    }
   ],
   "source": [
    "raise_to_the_power(10)"
   ]
  },
  {
   "cell_type": "code",
   "execution_count": 38,
   "id": "5c6fbdfc",
   "metadata": {},
   "outputs": [
    {
     "name": "stdout",
     "output_type": "stream",
     "text": [
      "16\n"
     ]
    }
   ],
   "source": [
    "result = raise_to_the_power(4, 2)"
   ]
  },
  {
   "cell_type": "code",
   "execution_count": 39,
   "id": "a158326e",
   "metadata": {},
   "outputs": [
    {
     "name": "stdout",
     "output_type": "stream",
     "text": [
      "None\n"
     ]
    }
   ],
   "source": [
    "print(result)"
   ]
  },
  {
   "cell_type": "code",
   "execution_count": 40,
   "id": "b365547c",
   "metadata": {},
   "outputs": [
    {
     "data": {
      "text/plain": [
       "NoneType"
      ]
     },
     "execution_count": 40,
     "metadata": {},
     "output_type": "execute_result"
    }
   ],
   "source": [
    "type(result)"
   ]
  },
  {
   "cell_type": "code",
   "execution_count": 41,
   "id": "0e6c03a5",
   "metadata": {},
   "outputs": [],
   "source": [
    "def raise_to_the_power(num, exponent):\n",
    "    power = num ** exponent\n",
    "    return power"
   ]
  },
  {
   "cell_type": "code",
   "execution_count": 42,
   "id": "19a3a2d2",
   "metadata": {},
   "outputs": [],
   "source": [
    "result = raise_to_the_power(4, 2)"
   ]
  },
  {
   "cell_type": "code",
   "execution_count": 43,
   "id": "7645cd67",
   "metadata": {},
   "outputs": [
    {
     "name": "stdout",
     "output_type": "stream",
     "text": [
      "16\n"
     ]
    }
   ],
   "source": [
    "print(result)"
   ]
  },
  {
   "cell_type": "code",
   "execution_count": 44,
   "id": "eaf6dae8",
   "metadata": {},
   "outputs": [
    {
     "data": {
      "text/plain": [
       "int"
      ]
     },
     "execution_count": 44,
     "metadata": {},
     "output_type": "execute_result"
    }
   ],
   "source": [
    "type(result)"
   ]
  },
  {
   "cell_type": "code",
   "execution_count": 45,
   "id": "3060687c",
   "metadata": {},
   "outputs": [],
   "source": [
    "def square_and_cube(num):\n",
    "    square = num ** 2\n",
    "    cube = num ** 3\n",
    "    return square, cube"
   ]
  },
  {
   "cell_type": "code",
   "execution_count": 46,
   "id": "39a7af93",
   "metadata": {},
   "outputs": [],
   "source": [
    "square, cube = square_and_cube(4)"
   ]
  },
  {
   "cell_type": "code",
   "execution_count": 47,
   "id": "12c1744a",
   "metadata": {},
   "outputs": [
    {
     "data": {
      "text/plain": [
       "16"
      ]
     },
     "execution_count": 47,
     "metadata": {},
     "output_type": "execute_result"
    }
   ],
   "source": [
    "square"
   ]
  },
  {
   "cell_type": "code",
   "execution_count": 48,
   "id": "bb761b31",
   "metadata": {},
   "outputs": [
    {
     "data": {
      "text/plain": [
       "64"
      ]
     },
     "execution_count": 48,
     "metadata": {},
     "output_type": "execute_result"
    }
   ],
   "source": [
    "cube"
   ]
  },
  {
   "cell_type": "code",
   "execution_count": null,
   "id": "3a3332e3",
   "metadata": {},
   "outputs": [],
   "source": []
  }
 ],
 "metadata": {
  "kernelspec": {
   "display_name": "Python 3",
   "language": "python",
   "name": "python3"
  },
  "language_info": {
   "codemirror_mode": {
    "name": "ipython",
    "version": 3
   },
   "file_extension": ".py",
   "mimetype": "text/x-python",
   "name": "python",
   "nbconvert_exporter": "python",
   "pygments_lexer": "ipython3",
   "version": "3.8.16"
  }
 },
 "nbformat": 4,
 "nbformat_minor": 5
}
