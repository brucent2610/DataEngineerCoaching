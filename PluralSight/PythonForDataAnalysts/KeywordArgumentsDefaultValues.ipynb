{
 "cells": [
  {
   "cell_type": "code",
   "execution_count": 10,
   "id": "5101ec63",
   "metadata": {},
   "outputs": [],
   "source": [
    "def car_parts(name, brand, hp, engine, zero_to_sixty, top_speed, price):\n",
    "    other_details = hp, engine, zero_to_sixty, top_speed, price\n",
    "    \n",
    "    print(\"Name of the car\", name)\n",
    "    print(\"Brand:\", brand, \"\\n0 to 60:\", zero_to_sixty)\n",
    "    print(\"Price:\", price)\n",
    "    print(\"Remaining details (hp, engine, top_speed, price):\", other_details)"
   ]
  },
  {
   "cell_type": "code",
   "execution_count": 11,
   "id": "4546f42f",
   "metadata": {},
   "outputs": [
    {
     "name": "stdout",
     "output_type": "stream",
     "text": [
      "Name of the car Aventador\n",
      "Brand: Lamborgini \n",
      "0 to 60: 2.9\n",
      "Price: 261000\n",
      "Remaining details (hp, engine, top_speed, price): (544, 7.0, 2.9, 220, 261000)\n"
     ]
    }
   ],
   "source": [
    "car_parts(\"Aventador\",\n",
    "         \"Lamborgini\",\n",
    "         544,\n",
    "         7.0,\n",
    "         2.9,\n",
    "         220,\n",
    "         261000)"
   ]
  },
  {
   "cell_type": "code",
   "execution_count": 12,
   "id": "405c9300",
   "metadata": {},
   "outputs": [
    {
     "ename": "TypeError",
     "evalue": "car_parts() missing 1 required positional argument: 'price'",
     "output_type": "error",
     "traceback": [
      "\u001b[0;31m---------------------------------------------------------------------------\u001b[0m",
      "\u001b[0;31mTypeError\u001b[0m                                 Traceback (most recent call last)",
      "\u001b[0;32m<ipython-input-12-9a6e891f4756>\u001b[0m in \u001b[0;36m<module>\u001b[0;34m\u001b[0m\n\u001b[0;32m----> 1\u001b[0;31m car_parts(\"Aventador\",\n\u001b[0m\u001b[1;32m      2\u001b[0m          \u001b[0;34m\"Lamborgini\"\u001b[0m\u001b[0;34m,\u001b[0m\u001b[0;34m\u001b[0m\u001b[0;34m\u001b[0m\u001b[0m\n\u001b[1;32m      3\u001b[0m          \u001b[0;36m544\u001b[0m\u001b[0;34m,\u001b[0m\u001b[0;34m\u001b[0m\u001b[0;34m\u001b[0m\u001b[0m\n\u001b[1;32m      4\u001b[0m          \u001b[0;36m7.0\u001b[0m\u001b[0;34m,\u001b[0m\u001b[0;34m\u001b[0m\u001b[0;34m\u001b[0m\u001b[0m\n\u001b[1;32m      5\u001b[0m          \u001b[0;36m2.9\u001b[0m\u001b[0;34m,\u001b[0m\u001b[0;34m\u001b[0m\u001b[0;34m\u001b[0m\u001b[0m\n",
      "\u001b[0;31mTypeError\u001b[0m: car_parts() missing 1 required positional argument: 'price'"
     ]
    }
   ],
   "source": [
    "car_parts(\"Aventador\",\n",
    "         \"Lamborgini\",\n",
    "         544,\n",
    "         7.0,\n",
    "         2.9,\n",
    "         220)"
   ]
  },
  {
   "cell_type": "code",
   "execution_count": 13,
   "id": "87865b2b",
   "metadata": {},
   "outputs": [
    {
     "ename": "TypeError",
     "evalue": "car_parts() missing 1 required positional argument: 'price'",
     "output_type": "error",
     "traceback": [
      "\u001b[0;31m---------------------------------------------------------------------------\u001b[0m",
      "\u001b[0;31mTypeError\u001b[0m                                 Traceback (most recent call last)",
      "\u001b[0;32m<ipython-input-13-cfe6d00c6dfb>\u001b[0m in \u001b[0;36m<module>\u001b[0;34m\u001b[0m\n\u001b[0;32m----> 1\u001b[0;31m car_parts(\"Aventador\",\n\u001b[0m\u001b[1;32m      2\u001b[0m          \u001b[0;34m\"Lamborgini\"\u001b[0m\u001b[0;34m,\u001b[0m\u001b[0;34m\u001b[0m\u001b[0;34m\u001b[0m\u001b[0m\n\u001b[1;32m      3\u001b[0m          \u001b[0;36m261000\u001b[0m\u001b[0;34m,\u001b[0m\u001b[0;34m\u001b[0m\u001b[0;34m\u001b[0m\u001b[0m\n\u001b[1;32m      4\u001b[0m          \u001b[0;36m7.0\u001b[0m\u001b[0;34m,\u001b[0m\u001b[0;34m\u001b[0m\u001b[0;34m\u001b[0m\u001b[0m\n\u001b[1;32m      5\u001b[0m          \u001b[0;36m2.9\u001b[0m\u001b[0;34m,\u001b[0m\u001b[0;34m\u001b[0m\u001b[0;34m\u001b[0m\u001b[0m\n",
      "\u001b[0;31mTypeError\u001b[0m: car_parts() missing 1 required positional argument: 'price'"
     ]
    }
   ],
   "source": [
    "car_parts(\"Aventador\",\n",
    "         \"Lamborgini\",\n",
    "         261000,\n",
    "         7.0,\n",
    "         2.9,\n",
    "         220)"
   ]
  },
  {
   "cell_type": "code",
   "execution_count": 14,
   "id": "5a183d90",
   "metadata": {},
   "outputs": [
    {
     "name": "stdout",
     "output_type": "stream",
     "text": [
      "Name of the car Aventador\n",
      "Brand: Lamborgini \n",
      "0 to 60: 2.9\n",
      "Price: 261000\n",
      "Remaining details (hp, engine, top_speed, price): (544, 7.0, 2.9, 220, 261000)\n"
     ]
    }
   ],
   "source": [
    "car_parts(name=\"Aventador\",\n",
    "         brand=\"Lamborgini\",\n",
    "         hp=544,\n",
    "         engine=7.0,\n",
    "         zero_to_sixty=2.9,\n",
    "         top_speed=220,\n",
    "         price=261000)"
   ]
  },
  {
   "cell_type": "code",
   "execution_count": 15,
   "id": "f2c4377e",
   "metadata": {},
   "outputs": [],
   "source": [
    "def car_parts(name=\"Aventador\", brand=\"Lamborgini\", hp=544, engine=7.0, zero_to_sixty=2.9, top_speed=220, price=261000):\n",
    "    other_details = hp, engine, zero_to_sixty, top_speed, price\n",
    "    \n",
    "    print(\"Name of the car\", name)\n",
    "    print(\"Brand:\", brand, \"\\n0 to 60:\", zero_to_sixty)\n",
    "    print(\"Price:\", price)\n",
    "    print(\"Remaining details (hp, engine, top_speed, price):\", other_details)"
   ]
  },
  {
   "cell_type": "code",
   "execution_count": 16,
   "id": "f749b5d6",
   "metadata": {},
   "outputs": [
    {
     "name": "stdout",
     "output_type": "stream",
     "text": [
      "Name of the car Aventador\n",
      "Brand: Lamborgini \n",
      "0 to 60: 2.9\n",
      "Price: 261000\n",
      "Remaining details (hp, engine, top_speed, price): (544, 7.0, 2.9, 220, 261000)\n"
     ]
    }
   ],
   "source": [
    "car_parts()"
   ]
  },
  {
   "cell_type": "code",
   "execution_count": null,
   "id": "8c635d8e",
   "metadata": {},
   "outputs": [],
   "source": []
  }
 ],
 "metadata": {
  "kernelspec": {
   "display_name": "Python 3",
   "language": "python",
   "name": "python3"
  },
  "language_info": {
   "codemirror_mode": {
    "name": "ipython",
    "version": 3
   },
   "file_extension": ".py",
   "mimetype": "text/x-python",
   "name": "python",
   "nbconvert_exporter": "python",
   "pygments_lexer": "ipython3",
   "version": "3.8.16"
  }
 },
 "nbformat": 4,
 "nbformat_minor": 5
}
