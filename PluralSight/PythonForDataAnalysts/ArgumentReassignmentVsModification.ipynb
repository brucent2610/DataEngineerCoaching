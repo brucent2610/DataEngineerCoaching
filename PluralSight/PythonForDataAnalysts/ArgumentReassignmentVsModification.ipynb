{
 "cells": [
  {
   "cell_type": "code",
   "execution_count": 2,
   "id": "c29d7a1f",
   "metadata": {},
   "outputs": [],
   "source": [
    "int_var = 3\n",
    "float_var = 3.3\n",
    "string_var = \"Hello\"\n",
    "bool_var = True"
   ]
  },
  {
   "cell_type": "code",
   "execution_count": 4,
   "id": "a58ced84",
   "metadata": {},
   "outputs": [],
   "source": [
    "def reassign_argument_basictypes(int_var, float_var, string_var, bool_var):\n",
    "    int_var = 30\n",
    "    float_var = 30.3\n",
    "    string_var = \"Goodbye!\"\n",
    "    bool_var = False\n",
    "    \n",
    "    print (\"Inside the function:\", int_var, float_var, string_var, bool_var)"
   ]
  },
  {
   "cell_type": "code",
   "execution_count": 5,
   "id": "fb3a8896",
   "metadata": {},
   "outputs": [
    {
     "name": "stdout",
     "output_type": "stream",
     "text": [
      "Outside the function: 3 3.3 Hello True\n"
     ]
    }
   ],
   "source": [
    "print (\"Outside the function:\", int_var, float_var, string_var, bool_var)"
   ]
  },
  {
   "cell_type": "code",
   "execution_count": 6,
   "id": "305a57e3",
   "metadata": {},
   "outputs": [
    {
     "name": "stdout",
     "output_type": "stream",
     "text": [
      "Inside the function: 30 30.3 Goodbye! False\n"
     ]
    }
   ],
   "source": [
    "reassign_argument_basictypes(int_var, float_var, string_var, bool_var)"
   ]
  },
  {
   "cell_type": "code",
   "execution_count": 9,
   "id": "ef302398",
   "metadata": {},
   "outputs": [
    {
     "name": "stdout",
     "output_type": "stream",
     "text": [
      "Outside the function: 3 3.3 Hello True\n"
     ]
    }
   ],
   "source": [
    "print (\"Outside the function:\", int_var, float_var, string_var, bool_var)"
   ]
  },
  {
   "cell_type": "code",
   "execution_count": 10,
   "id": "0ffe706a",
   "metadata": {},
   "outputs": [],
   "source": [
    "some_list = [\"John\", \"Mary\"]\n",
    "some_tuple = (\"John\", \"Mary\")\n",
    "some_dictionary = {\"John\": 50, \"Mary\": 55}"
   ]
  },
  {
   "cell_type": "code",
   "execution_count": 19,
   "id": "c31d17f6",
   "metadata": {},
   "outputs": [],
   "source": [
    "def reassign_argument_complextypes(some_list, some_tuple, some_dictionary):\n",
    "    some_list = [\"Alice\"]\n",
    "    some_tuple = (\"Alice\")\n",
    "    some_dictionary = {\"Alice\": 25}\n",
    "    \n",
    "    print (\"Inside the function:\", some_list, some_tuple, some_dictionary)"
   ]
  },
  {
   "cell_type": "code",
   "execution_count": 20,
   "id": "0dc4f261",
   "metadata": {},
   "outputs": [
    {
     "name": "stdout",
     "output_type": "stream",
     "text": [
      "Outside the function: ['John', 'Mary'] ('John', 'Mary') {'John': 50, 'Mary': 55}\n"
     ]
    }
   ],
   "source": [
    "print (\"Outside the function:\", some_list, some_tuple, some_dictionary)"
   ]
  },
  {
   "cell_type": "code",
   "execution_count": 21,
   "id": "0d2e4a2f",
   "metadata": {},
   "outputs": [
    {
     "name": "stdout",
     "output_type": "stream",
     "text": [
      "Inside the function: ['Alice'] Alice {'Alice': 25}\n"
     ]
    }
   ],
   "source": [
    "reassign_argument_complextypes(some_list, some_tuple, some_dictionary)"
   ]
  },
  {
   "cell_type": "code",
   "execution_count": 22,
   "id": "be2520df",
   "metadata": {},
   "outputs": [
    {
     "name": "stdout",
     "output_type": "stream",
     "text": [
      "Outside the function: ['John', 'Mary'] ('John', 'Mary') {'John': 50, 'Mary': 55}\n"
     ]
    }
   ],
   "source": [
    "print (\"Outside the function:\", some_list, some_tuple, some_dictionary)"
   ]
  },
  {
   "cell_type": "code",
   "execution_count": 25,
   "id": "6e8e9e29",
   "metadata": {},
   "outputs": [],
   "source": [
    "popular_story_books = [\"Geronimo Stilton\",\n",
    "                      \"Thea Stilton\",\n",
    "                      \"Timmy Failure\",\n",
    "                      \"Asterix\",\n",
    "                      \"Tintin\"]"
   ]
  },
  {
   "cell_type": "code",
   "execution_count": 26,
   "id": "c4f72f22",
   "metadata": {},
   "outputs": [],
   "source": [
    "def modify_list(popular_story_books):\n",
    "    popular_story_books.append(\"Dr.Seuss\")"
   ]
  },
  {
   "cell_type": "code",
   "execution_count": 27,
   "id": "6330da40",
   "metadata": {},
   "outputs": [],
   "source": [
    "modify_list(popular_story_books)"
   ]
  },
  {
   "cell_type": "code",
   "execution_count": 28,
   "id": "203f07c5",
   "metadata": {},
   "outputs": [
    {
     "data": {
      "text/plain": [
       "['Geronimo Stilton',\n",
       " 'Thea Stilton',\n",
       " 'Timmy Failure',\n",
       " 'Asterix',\n",
       " 'Tintin',\n",
       " 'Dr.Seuss']"
      ]
     },
     "execution_count": 28,
     "metadata": {},
     "output_type": "execute_result"
    }
   ],
   "source": [
    "popular_story_books"
   ]
  },
  {
   "cell_type": "code",
   "execution_count": 29,
   "id": "059db248",
   "metadata": {},
   "outputs": [],
   "source": [
    "def modify_list(story_books):\n",
    "    story_books[1] = \"Suzie John\"\n",
    "    story_books.pop()"
   ]
  },
  {
   "cell_type": "code",
   "execution_count": 30,
   "id": "a13a51f8",
   "metadata": {},
   "outputs": [],
   "source": [
    "modify_list(popular_story_books)"
   ]
  },
  {
   "cell_type": "code",
   "execution_count": 31,
   "id": "21270d8c",
   "metadata": {},
   "outputs": [
    {
     "data": {
      "text/plain": [
       "['Geronimo Stilton', 'Suzie John', 'Timmy Failure', 'Asterix', 'Tintin']"
      ]
     },
     "execution_count": 31,
     "metadata": {},
     "output_type": "execute_result"
    }
   ],
   "source": [
    "popular_story_books"
   ]
  },
  {
   "cell_type": "code",
   "execution_count": 32,
   "id": "883c21f3",
   "metadata": {},
   "outputs": [],
   "source": [
    "popular_story_books_dic = {\"Geronimo Stilton\": 4,\n",
    "                      \"Thea Stilton\": 5,\n",
    "                      \"Timmy Failure\": 2,\n",
    "                      \"Asterix\": 12,\n",
    "                      \"Tintin\": 8}"
   ]
  },
  {
   "cell_type": "code",
   "execution_count": 33,
   "id": "b9183518",
   "metadata": {},
   "outputs": [],
   "source": [
    "def modify_dict(story_books_dict):\n",
    "    del story_books_dict[\"Tintin\"]\n",
    "    story_books_dict[\"Famous Five\"] = 3 "
   ]
  },
  {
   "cell_type": "code",
   "execution_count": 34,
   "id": "eb13936b",
   "metadata": {},
   "outputs": [],
   "source": [
    "modify_dict(popular_story_books_dic)"
   ]
  },
  {
   "cell_type": "code",
   "execution_count": 35,
   "id": "d78f2e5a",
   "metadata": {},
   "outputs": [
    {
     "data": {
      "text/plain": [
       "{'Geronimo Stilton': 4,\n",
       " 'Thea Stilton': 5,\n",
       " 'Timmy Failure': 2,\n",
       " 'Asterix': 12,\n",
       " 'Famous Five': 3}"
      ]
     },
     "execution_count": 35,
     "metadata": {},
     "output_type": "execute_result"
    }
   ],
   "source": [
    "popular_story_books_dic"
   ]
  },
  {
   "cell_type": "code",
   "execution_count": null,
   "id": "b3305e4b",
   "metadata": {},
   "outputs": [],
   "source": []
  }
 ],
 "metadata": {
  "kernelspec": {
   "display_name": "Python 3",
   "language": "python",
   "name": "python3"
  },
  "language_info": {
   "codemirror_mode": {
    "name": "ipython",
    "version": 3
   },
   "file_extension": ".py",
   "mimetype": "text/x-python",
   "name": "python",
   "nbconvert_exporter": "python",
   "pygments_lexer": "ipython3",
   "version": "3.8.16"
  }
 },
 "nbformat": 4,
 "nbformat_minor": 5
}
