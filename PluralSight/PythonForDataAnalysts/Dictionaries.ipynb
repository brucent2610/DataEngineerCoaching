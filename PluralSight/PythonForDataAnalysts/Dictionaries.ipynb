{
 "cells": [
  {
   "cell_type": "code",
   "execution_count": 1,
   "id": "ff8b2cfa",
   "metadata": {},
   "outputs": [],
   "source": [
    "empty_dict = {}"
   ]
  },
  {
   "cell_type": "code",
   "execution_count": 2,
   "id": "8be514c0",
   "metadata": {},
   "outputs": [
    {
     "name": "stdout",
     "output_type": "stream",
     "text": [
      "{}\n"
     ]
    }
   ],
   "source": [
    "print(empty_dict)"
   ]
  },
  {
   "cell_type": "code",
   "execution_count": 3,
   "id": "38858e4d",
   "metadata": {},
   "outputs": [
    {
     "data": {
      "text/plain": [
       "dict"
      ]
     },
     "execution_count": 3,
     "metadata": {},
     "output_type": "execute_result"
    }
   ],
   "source": [
    "type(empty_dict)"
   ]
  },
  {
   "cell_type": "code",
   "execution_count": 25,
   "id": "d86cef13",
   "metadata": {},
   "outputs": [],
   "source": [
    "names_and_ages = {\"Suzzie\": 6,\n",
    "                 \"Calvin\": 5,\n",
    "                 \"Hobbes\": 4}"
   ]
  },
  {
   "cell_type": "code",
   "execution_count": 26,
   "id": "a78a9966",
   "metadata": {},
   "outputs": [
    {
     "data": {
      "text/plain": [
       "{'Suzzie': 6, 'Calvin': 5, 'Hobbes': 4}"
      ]
     },
     "execution_count": 26,
     "metadata": {},
     "output_type": "execute_result"
    }
   ],
   "source": [
    "names_and_ages"
   ]
  },
  {
   "cell_type": "code",
   "execution_count": 27,
   "id": "6ee0ee33",
   "metadata": {},
   "outputs": [
    {
     "data": {
      "text/plain": [
       "5"
      ]
     },
     "execution_count": 27,
     "metadata": {},
     "output_type": "execute_result"
    }
   ],
   "source": [
    "names_and_ages[\"Calvin\"]"
   ]
  },
  {
   "cell_type": "code",
   "execution_count": 28,
   "id": "c384b06a",
   "metadata": {},
   "outputs": [
    {
     "data": {
      "text/plain": [
       "4"
      ]
     },
     "execution_count": 28,
     "metadata": {},
     "output_type": "execute_result"
    }
   ],
   "source": [
    "names_and_ages[\"Hobbes\"]"
   ]
  },
  {
   "cell_type": "code",
   "execution_count": 29,
   "id": "1f586054",
   "metadata": {},
   "outputs": [
    {
     "data": {
      "text/plain": [
       "6"
      ]
     },
     "execution_count": 29,
     "metadata": {},
     "output_type": "execute_result"
    }
   ],
   "source": [
    "names_and_ages[\"Suzzie\"]"
   ]
  },
  {
   "cell_type": "code",
   "execution_count": 30,
   "id": "955e9082",
   "metadata": {},
   "outputs": [
    {
     "data": {
      "text/plain": [
       "dict_keys(['Suzzie', 'Calvin', 'Hobbes'])"
      ]
     },
     "execution_count": 30,
     "metadata": {},
     "output_type": "execute_result"
    }
   ],
   "source": [
    "names_and_ages.keys()"
   ]
  },
  {
   "cell_type": "code",
   "execution_count": 31,
   "id": "b252f7f7",
   "metadata": {},
   "outputs": [
    {
     "data": {
      "text/plain": [
       "dict_values([6, 5, 4])"
      ]
     },
     "execution_count": 31,
     "metadata": {},
     "output_type": "execute_result"
    }
   ],
   "source": [
    "names_and_ages.values()"
   ]
  },
  {
   "cell_type": "code",
   "execution_count": 32,
   "id": "48caaef2",
   "metadata": {},
   "outputs": [
    {
     "data": {
      "text/plain": [
       "dict_items([('Suzzie', 6), ('Calvin', 5), ('Hobbes', 4)])"
      ]
     },
     "execution_count": 32,
     "metadata": {},
     "output_type": "execute_result"
    }
   ],
   "source": [
    "names_and_ages.items()"
   ]
  },
  {
   "cell_type": "code",
   "execution_count": 33,
   "id": "9fd6434a",
   "metadata": {},
   "outputs": [
    {
     "data": {
      "text/plain": [
       "{'Suzzie': 6, 'Calvin': 5, 'Hobbes': 4, 'Rowley': 15}"
      ]
     },
     "execution_count": 33,
     "metadata": {},
     "output_type": "execute_result"
    }
   ],
   "source": [
    "names_and_ages[\"Rowley\"] = 15\n",
    "names_and_ages"
   ]
  },
  {
   "cell_type": "code",
   "execution_count": 34,
   "id": "941d6747",
   "metadata": {},
   "outputs": [
    {
     "data": {
      "text/plain": [
       "{'Suzzie': 6, 'Calvin': 5, 'Hobbes': 25, 'Rowley': 15}"
      ]
     },
     "execution_count": 34,
     "metadata": {},
     "output_type": "execute_result"
    }
   ],
   "source": [
    "names_and_ages[\"Hobbes\"] = 25\n",
    "names_and_ages"
   ]
  },
  {
   "cell_type": "code",
   "execution_count": 35,
   "id": "60c0cba4",
   "metadata": {},
   "outputs": [
    {
     "data": {
      "text/plain": [
       "{'Suzzie': 6, 'Hobbes': 25, 'Rowley': 15}"
      ]
     },
     "execution_count": 35,
     "metadata": {},
     "output_type": "execute_result"
    }
   ],
   "source": [
    "names_and_ages.pop(\"Calvin\")\n",
    "names_and_ages"
   ]
  },
  {
   "cell_type": "code",
   "execution_count": 36,
   "id": "e9529d47",
   "metadata": {},
   "outputs": [
    {
     "data": {
      "text/plain": [
       "{'Suzzie': 6, 'Hobbes': 25}"
      ]
     },
     "execution_count": 36,
     "metadata": {},
     "output_type": "execute_result"
    }
   ],
   "source": [
    "del names_and_ages[\"Rowley\"]\n",
    "names_and_ages"
   ]
  },
  {
   "cell_type": "code",
   "execution_count": 37,
   "id": "aafa3e91",
   "metadata": {},
   "outputs": [],
   "source": [
    "occupations_and_names = {\"Doctors\": [\"John\", \"Nina\", \"Steve\"],\n",
    "                        \"Engineers\": [\"Bill\",\"Emily\", \"Jane\"],\n",
    "                        \"Pilots\": [\"Sally\", \"Richard\", \"Bob\"]}"
   ]
  },
  {
   "cell_type": "code",
   "execution_count": 38,
   "id": "99cb4769",
   "metadata": {},
   "outputs": [
    {
     "data": {
      "text/plain": [
       "{'Doctors': ['John', 'Nina', 'Steve'],\n",
       " 'Engineers': ['Bill', 'Emily', 'Jane'],\n",
       " 'Pilots': ['Sally', 'Richard', 'Bob']}"
      ]
     },
     "execution_count": 38,
     "metadata": {},
     "output_type": "execute_result"
    }
   ],
   "source": [
    "occupations_and_names"
   ]
  },
  {
   "cell_type": "code",
   "execution_count": 39,
   "id": "bb5db320",
   "metadata": {},
   "outputs": [
    {
     "data": {
      "text/plain": [
       "'Bill'"
      ]
     },
     "execution_count": 39,
     "metadata": {},
     "output_type": "execute_result"
    }
   ],
   "source": [
    "occupations_and_names[\"Engineers\"][0]"
   ]
  },
  {
   "cell_type": "code",
   "execution_count": 40,
   "id": "d68366f5",
   "metadata": {},
   "outputs": [],
   "source": [
    "int_key_dict = {1: \"Suzzie\",\n",
    "               2: \"Calvin\",\n",
    "               3: \"Hobbes\"}"
   ]
  },
  {
   "cell_type": "code",
   "execution_count": 41,
   "id": "763d7ce7",
   "metadata": {},
   "outputs": [
    {
     "data": {
      "text/plain": [
       "'Suzzie'"
      ]
     },
     "execution_count": 41,
     "metadata": {},
     "output_type": "execute_result"
    }
   ],
   "source": [
    "int_key_dict[1]"
   ]
  },
  {
   "cell_type": "code",
   "execution_count": 42,
   "id": "f9d8ae0e",
   "metadata": {},
   "outputs": [
    {
     "ename": "KeyError",
     "evalue": "9",
     "output_type": "error",
     "traceback": [
      "\u001b[0;31m---------------------------------------------------------------------------\u001b[0m",
      "\u001b[0;31mKeyError\u001b[0m                                  Traceback (most recent call last)",
      "\u001b[0;32m<ipython-input-42-2f9f425a27f3>\u001b[0m in \u001b[0;36m<module>\u001b[0;34m\u001b[0m\n\u001b[0;32m----> 1\u001b[0;31m \u001b[0mint_key_dict\u001b[0m\u001b[0;34m[\u001b[0m\u001b[0;36m9\u001b[0m\u001b[0;34m]\u001b[0m\u001b[0;34m\u001b[0m\u001b[0;34m\u001b[0m\u001b[0m\n\u001b[0m",
      "\u001b[0;31mKeyError\u001b[0m: 9"
     ]
    }
   ],
   "source": [
    "int_key_dict[9]"
   ]
  },
  {
   "cell_type": "code",
   "execution_count": null,
   "id": "bb874ba0",
   "metadata": {},
   "outputs": [],
   "source": []
  }
 ],
 "metadata": {
  "kernelspec": {
   "display_name": "Python 3",
   "language": "python",
   "name": "python3"
  },
  "language_info": {
   "codemirror_mode": {
    "name": "ipython",
    "version": 3
   },
   "file_extension": ".py",
   "mimetype": "text/x-python",
   "name": "python",
   "nbconvert_exporter": "python",
   "pygments_lexer": "ipython3",
   "version": "3.8.16"
  }
 },
 "nbformat": 4,
 "nbformat_minor": 5
}
