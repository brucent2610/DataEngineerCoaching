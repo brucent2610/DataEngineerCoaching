{
 "cells": [
  {
   "cell_type": "code",
   "execution_count": 1,
   "id": "da776479",
   "metadata": {},
   "outputs": [],
   "source": [
    "classic_cars = [\"Pierce Arrow\", \"Oldsmobile\", \"Mustang\", \"Corvette\", \"Alfa Romeo SPider\"]"
   ]
  },
  {
   "cell_type": "code",
   "execution_count": 2,
   "id": "fcdf6592",
   "metadata": {},
   "outputs": [
    {
     "name": "stdout",
     "output_type": "stream",
     "text": [
      "Pierce Arrow\n"
     ]
    }
   ],
   "source": [
    "for car in classic_cars:\n",
    "    print(car)\n",
    "    break"
   ]
  },
  {
   "cell_type": "code",
   "execution_count": 3,
   "id": "f90434e6",
   "metadata": {},
   "outputs": [
    {
     "data": {
      "text/plain": [
       "'Pierce Arrow'"
      ]
     },
     "execution_count": 3,
     "metadata": {},
     "output_type": "execute_result"
    }
   ],
   "source": [
    "car"
   ]
  },
  {
   "cell_type": "code",
   "execution_count": 8,
   "id": "aeaa4691",
   "metadata": {},
   "outputs": [
    {
     "name": "stdout",
     "output_type": "stream",
     "text": [
      "Pierce Arrow\n",
      "Oldsmobile\n",
      "Mustang\n",
      "Corvette\n",
      "This is my favourite! Corvette\n"
     ]
    }
   ],
   "source": [
    "for car in classic_cars:\n",
    "    print(car)\n",
    "    if(car == \"Corvette\"):\n",
    "        print (\"This is my favourite!\", car)\n",
    "        break"
   ]
  },
  {
   "cell_type": "code",
   "execution_count": 11,
   "id": "b17c7eaf",
   "metadata": {},
   "outputs": [
    {
     "name": "stdout",
     "output_type": "stream",
     "text": [
      "Still within the loop: Pierce Arrow\n",
      "Still within the loop: Oldsmobile\n",
      "Still within the loop: Mustang\n",
      "This is my favourite! Corvette\n"
     ]
    }
   ],
   "source": [
    "for car in classic_cars:\n",
    "    if(car == \"Corvette\"):\n",
    "        print (\"This is my favourite!\", car)\n",
    "        break\n",
    "        \n",
    "    print(\"Still within the loop:\",car)"
   ]
  },
  {
   "cell_type": "code",
   "execution_count": 12,
   "id": "9a48e5d2",
   "metadata": {},
   "outputs": [
    {
     "name": "stdout",
     "output_type": "stream",
     "text": [
      "Checking ... 3\n",
      "Multiple of 3 - yigee!\n"
     ]
    }
   ],
   "source": [
    "numbers_list = [3,5,6,7,4,32,4,9]\n",
    "\n",
    "for num in numbers_list:\n",
    "    \n",
    "    print (\"Checking ...\", num)\n",
    "    \n",
    "    if(num % 3 == 0):\n",
    "        print (\"Multiple of 3 - yigee!\")\n",
    "        break\n",
    "        \n",
    "    print(\"Not multiple of 3\")"
   ]
  },
  {
   "cell_type": "code",
   "execution_count": 13,
   "id": "8fa10d94",
   "metadata": {},
   "outputs": [
    {
     "name": "stdout",
     "output_type": "stream",
     "text": [
      "Pierce Arrow\n",
      "Oldsmobile\n",
      "Mustang\n",
      "Alfa Romeo SPider\n"
     ]
    }
   ],
   "source": [
    "for car in classic_cars:\n",
    "    if(car == \"Corvette\"):\n",
    "        continue\n",
    "    print(car)"
   ]
  },
  {
   "cell_type": "code",
   "execution_count": 14,
   "id": "74b8e937",
   "metadata": {},
   "outputs": [
    {
     "name": "stdout",
     "output_type": "stream",
     "text": [
      "1\n",
      "3\n",
      "5\n",
      "7\n",
      "9\n"
     ]
    }
   ],
   "source": [
    "for i in range(10):\n",
    "    if(i % 2 == 0):\n",
    "        continue\n",
    "    print(i)"
   ]
  },
  {
   "cell_type": "code",
   "execution_count": 15,
   "id": "cbe80645",
   "metadata": {},
   "outputs": [
    {
     "name": "stdout",
     "output_type": "stream",
     "text": [
      "10\n",
      "11\n",
      "12\n",
      "13\n",
      "16\n",
      "17\n",
      "18\n",
      "19\n",
      "20\n"
     ]
    }
   ],
   "source": [
    "for i in range(10, 21):\n",
    "    if(i > 13 and i < 16):\n",
    "        continue\n",
    "    else:\n",
    "        print(i)"
   ]
  },
  {
   "cell_type": "code",
   "execution_count": 16,
   "id": "f5130c09",
   "metadata": {},
   "outputs": [
    {
     "name": "stdout",
     "output_type": "stream",
     "text": [
      "10\n",
      "11\n",
      "12\n",
      "13\n"
     ]
    }
   ],
   "source": [
    "for i in range(10, 21):\n",
    "    if(i > 13 and i < 16):\n",
    "        break\n",
    "    else:\n",
    "        print(i)"
   ]
  },
  {
   "cell_type": "code",
   "execution_count": 17,
   "id": "b41eab91",
   "metadata": {},
   "outputs": [
    {
     "name": "stdout",
     "output_type": "stream",
     "text": [
      "10\n",
      "11\n",
      "12\n",
      "13\n",
      "16\n",
      "17\n",
      "18\n",
      "19\n",
      "20\n"
     ]
    }
   ],
   "source": [
    "for i in range(10, 21):\n",
    "    if(i > 13 and i < 16):\n",
    "        pass\n",
    "    else:\n",
    "        print(i)"
   ]
  },
  {
   "cell_type": "code",
   "execution_count": null,
   "id": "092f17a7",
   "metadata": {},
   "outputs": [],
   "source": []
  }
 ],
 "metadata": {
  "kernelspec": {
   "display_name": "Python 3",
   "language": "python",
   "name": "python3"
  },
  "language_info": {
   "codemirror_mode": {
    "name": "ipython",
    "version": 3
   },
   "file_extension": ".py",
   "mimetype": "text/x-python",
   "name": "python",
   "nbconvert_exporter": "python",
   "pygments_lexer": "ipython3",
   "version": "3.8.16"
  }
 },
 "nbformat": 4,
 "nbformat_minor": 5
}
