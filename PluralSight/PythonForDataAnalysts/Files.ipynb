{
 "cells": [
  {
   "cell_type": "code",
   "execution_count": 1,
   "id": "81e55fa1",
   "metadata": {},
   "outputs": [],
   "source": [
    "import os"
   ]
  },
  {
   "cell_type": "code",
   "execution_count": 2,
   "id": "aa7c6a5d",
   "metadata": {},
   "outputs": [
    {
     "data": {
      "text/plain": [
       "'/Users/macintoshhd/Public/Project/Learn/PluralSight/PythonForDataAnalysts'"
      ]
     },
     "execution_count": 2,
     "metadata": {},
     "output_type": "execute_result"
    }
   ],
   "source": [
    "os.getcwd()"
   ]
  },
  {
   "cell_type": "code",
   "execution_count": 3,
   "id": "17b4f9da",
   "metadata": {},
   "outputs": [
    {
     "ename": "FileNotFoundError",
     "evalue": "[Errno 2] No such file or directory: 'nosuchfile.txt'",
     "output_type": "error",
     "traceback": [
      "\u001b[0;31m---------------------------------------------------------------------------\u001b[0m",
      "\u001b[0;31mFileNotFoundError\u001b[0m                         Traceback (most recent call last)",
      "\u001b[0;32m<ipython-input-3-dff8de2a4a85>\u001b[0m in \u001b[0;36m<module>\u001b[0;34m\u001b[0m\n\u001b[0;32m----> 1\u001b[0;31m \u001b[0mopen\u001b[0m\u001b[0;34m(\u001b[0m\u001b[0;34m\"nosuchfile.txt\"\u001b[0m\u001b[0;34m)\u001b[0m\u001b[0;34m\u001b[0m\u001b[0;34m\u001b[0m\u001b[0m\n\u001b[0m",
      "\u001b[0;31mFileNotFoundError\u001b[0m: [Errno 2] No such file or directory: 'nosuchfile.txt'"
     ]
    }
   ],
   "source": [
    "open(\"nosuchfile.txt\")"
   ]
  },
  {
   "cell_type": "code",
   "execution_count": 4,
   "id": "288ce6a3",
   "metadata": {},
   "outputs": [
    {
     "name": "stdout",
     "output_type": "stream",
     "text": [
      "total 12304\r\n",
      "drwxr-xr-x  20 macintoshhd  staff      640 May  2 11:05 \u001b[1m\u001b[36m.\u001b[m\u001b[m\r\n",
      "drwxr-xr-x   3 macintoshhd  staff       96 Apr 28 16:07 \u001b[1m\u001b[36m..\u001b[m\u001b[m\r\n",
      "drwxr-xr-x  18 macintoshhd  staff      576 May  2 11:05 \u001b[1m\u001b[36m.ipynb_checkpoints\u001b[m\u001b[m\r\n",
      "-rw-r--r--   1 macintoshhd  staff     7630 May  2 07:52 ArgumentReassignmentVsModification.ipynb\r\n",
      "-rw-r--r--   1 macintoshhd  staff     5448 May  1 15:32 BreakContinueAndPass.ipynb\r\n",
      "-rw-r--r--   1 macintoshhd  staff    14575 May  1 11:38 BuiltInFunctions.ipynb\r\n",
      "-rw-r--r--   1 macintoshhd  staff    15132 May  2 11:04 CommandLineProcessesAndEnvironmentVariables.ipynb\r\n",
      "-rw-r--r--   1 macintoshhd  staff     8310 May  1 12:45 Dictionaries.ipynb\r\n",
      "-rw-r--r--   1 macintoshhd  staff     6877 May  2 08:11 FirstClassFunctions.ipynb\r\n",
      "-rw-r--r--   1 macintoshhd  staff    13384 May  1 15:12 ForLoop.ipynb\r\n",
      "-rw-r--r--   1 macintoshhd  staff    14204 May  1 18:19 FunctionsInputArgumentsAndReturnValues.ipynb\r\n",
      "-rw-r--r--   1 macintoshhd  staff    11946 May  1 14:57 IfElseAndElifStatements.ipynb\r\n",
      "-rw-r--r--   1 macintoshhd  staff    11510 May  2 11:04 ImportingModules.ipynb\r\n",
      "-rw-r--r--   1 macintoshhd  staff     6497 May  2 08:01 KeywordArgumentsDefaultValues.ipynb\r\n",
      "-rw-r--r--   1 macintoshhd  staff    17856 May  1 11:56 Lists.ipynb\r\n",
      "-rw-r--r--   1 macintoshhd  staff     1316 Apr 28 16:46 SimpleExpression.ipynb\r\n",
      "-rw-r--r--   1 macintoshhd  staff     7666 May  1 12:04 Tuples.ipynb\r\n",
      "-rw-r--r--   1 macintoshhd  staff       72 May  2 11:05 Untitled.ipynb\r\n",
      "-rw-r--r--   1 macintoshhd  staff  6119935 May  1 15:22 WhileLoops.ipynb\r\n",
      "-rw-r--r--   1 macintoshhd  staff      141 May  2 10:59 modules.txt\r\n"
     ]
    }
   ],
   "source": [
    "!ls -al"
   ]
  },
  {
   "cell_type": "code",
   "execution_count": 5,
   "id": "7d5ca4aa",
   "metadata": {},
   "outputs": [
    {
     "name": "stdout",
     "output_type": "stream",
     "text": [
      "CommandLineProcessesAndEnvironmentVariables.ipynb:      \"-rw-r--r--  1 macintoshhd  staff    11510 May  2 08:32 ImportingModules.ipynb\\r\\n\",\r\n"
     ]
    }
   ],
   "source": [
    "!cat modules.txt"
   ]
  },
  {
   "cell_type": "code",
   "execution_count": 6,
   "id": "7a16815f",
   "metadata": {},
   "outputs": [
    {
     "data": {
      "text/plain": [
       "<_io.TextIOWrapper name='modules.txt' mode='r' encoding='UTF-8'>"
      ]
     },
     "execution_count": 6,
     "metadata": {},
     "output_type": "execute_result"
    }
   ],
   "source": [
    "file = open(\"modules.txt\")\n",
    "file"
   ]
  },
  {
   "cell_type": "code",
   "execution_count": 7,
   "id": "61f9fde4",
   "metadata": {},
   "outputs": [
    {
     "data": {
      "text/plain": [
       "<_io.TextIOWrapper name='modules.txt' mode='r' encoding='UTF-8'>"
      ]
     },
     "execution_count": 7,
     "metadata": {},
     "output_type": "execute_result"
    }
   ],
   "source": [
    "file = open(\"modules.txt\", mode=\"r\")\n",
    "file"
   ]
  },
  {
   "cell_type": "code",
   "execution_count": 8,
   "id": "954352c5",
   "metadata": {},
   "outputs": [
    {
     "data": {
      "text/plain": [
       "'CommandLineProcessesAndEnvironmentVariables.ipynb:      \"-rw-r--r--  1 macintoshhd  staff    11510 May  2 08:32 ImportingModules.ipynb\\\\r\\\\n\",\\n'"
      ]
     },
     "execution_count": 8,
     "metadata": {},
     "output_type": "execute_result"
    }
   ],
   "source": [
    "file.read()"
   ]
  },
  {
   "cell_type": "code",
   "execution_count": 9,
   "id": "75193523",
   "metadata": {},
   "outputs": [
    {
     "data": {
      "text/plain": [
       "0"
      ]
     },
     "execution_count": 9,
     "metadata": {},
     "output_type": "execute_result"
    }
   ],
   "source": [
    "file.seek(0)"
   ]
  },
  {
   "cell_type": "code",
   "execution_count": 10,
   "id": "825f5488",
   "metadata": {},
   "outputs": [
    {
     "data": {
      "text/plain": [
       "'Comma'"
      ]
     },
     "execution_count": 10,
     "metadata": {},
     "output_type": "execute_result"
    }
   ],
   "source": [
    "file.read(5)"
   ]
  },
  {
   "cell_type": "code",
   "execution_count": 11,
   "id": "07dc8418",
   "metadata": {},
   "outputs": [
    {
     "data": {
      "text/plain": [
       "'ndLine'"
      ]
     },
     "execution_count": 11,
     "metadata": {},
     "output_type": "execute_result"
    }
   ],
   "source": [
    "file.read(6)"
   ]
  },
  {
   "cell_type": "code",
   "execution_count": 12,
   "id": "c06d9260",
   "metadata": {},
   "outputs": [],
   "source": [
    "file.close()"
   ]
  },
  {
   "cell_type": "code",
   "execution_count": 13,
   "id": "daa93037",
   "metadata": {},
   "outputs": [
    {
     "ename": "ValueError",
     "evalue": "I/O operation on closed file.",
     "output_type": "error",
     "traceback": [
      "\u001b[0;31m---------------------------------------------------------------------------\u001b[0m",
      "\u001b[0;31mValueError\u001b[0m                                Traceback (most recent call last)",
      "\u001b[0;32m<ipython-input-13-f3fc120c03c1>\u001b[0m in \u001b[0;36m<module>\u001b[0;34m\u001b[0m\n\u001b[0;32m----> 1\u001b[0;31m \u001b[0mfile\u001b[0m\u001b[0;34m.\u001b[0m\u001b[0mread\u001b[0m\u001b[0;34m(\u001b[0m\u001b[0;34m)\u001b[0m\u001b[0;34m\u001b[0m\u001b[0;34m\u001b[0m\u001b[0m\n\u001b[0m",
      "\u001b[0;31mValueError\u001b[0m: I/O operation on closed file."
     ]
    }
   ],
   "source": [
    "file.read()"
   ]
  },
  {
   "cell_type": "code",
   "execution_count": 18,
   "id": "b379ce2a",
   "metadata": {},
   "outputs": [
    {
     "name": "stdout",
     "output_type": "stream",
     "text": [
      "['Elitepitical', ' 1300']\n",
      "['Yoga Mat', ' 30']\n",
      "['Punching Bag', ' 75']\n",
      "['Treadmill', ' 1200']\n",
      "['Sports Shoes', ' 80']\n"
     ]
    }
   ],
   "source": [
    "import csv\n",
    "\n",
    "with open(\"./files/gym_equipment.csv\", \"r\") as f:\n",
    "    csv_reader = csv.reader(f)\n",
    "    \n",
    "    for equipment in csv_reader:\n",
    "        print(equipment)"
   ]
  },
  {
   "cell_type": "code",
   "execution_count": 20,
   "id": "e830feac",
   "metadata": {},
   "outputs": [
    {
     "name": "stdout",
     "output_type": "stream",
     "text": [
      "{'Product': 'Elitepitical', ' Price': ' 1300'}\n",
      "{'Product': 'Yoga Mat', ' Price': ' 30'}\n",
      "{'Product': 'Punching Bag', ' Price': ' 75'}\n",
      "{'Product': 'Treadmill', ' Price': ' 1200'}\n",
      "{'Product': 'Sports Shoes', ' Price': ' 80'}\n"
     ]
    }
   ],
   "source": [
    "import csv\n",
    "\n",
    "with open(\"./files/gym_equipment_headings.csv\", \"r\") as f:\n",
    "    csv_reader = csv.DictReader(f)\n",
    "    \n",
    "    for equipment in csv_reader:\n",
    "        print(equipment)"
   ]
  },
  {
   "cell_type": "code",
   "execution_count": 33,
   "id": "7a896c08",
   "metadata": {},
   "outputs": [],
   "source": [
    "import json\n",
    "dogs_and_ages = {\"Oba\": 8.9,\n",
    "                \"Moje\": 4.5,\n",
    "                \"Nemo\": 1.25}"
   ]
  },
  {
   "cell_type": "code",
   "execution_count": 34,
   "id": "b409eb83",
   "metadata": {},
   "outputs": [
    {
     "data": {
      "text/plain": [
       "'{\"Oba\": 8.9, \"Moje\": 4.5, \"Nemo\": 1.25}'"
      ]
     },
     "execution_count": 34,
     "metadata": {},
     "output_type": "execute_result"
    }
   ],
   "source": [
    "json_string = json.dumps(dogs_and_ages)\n",
    "json_string"
   ]
  },
  {
   "cell_type": "code",
   "execution_count": 35,
   "id": "07f4a9be",
   "metadata": {},
   "outputs": [
    {
     "data": {
      "text/plain": [
       "str"
      ]
     },
     "execution_count": 35,
     "metadata": {},
     "output_type": "execute_result"
    }
   ],
   "source": [
    "type(json_string)"
   ]
  },
  {
   "cell_type": "code",
   "execution_count": 42,
   "id": "10d96bc7",
   "metadata": {},
   "outputs": [],
   "source": [
    "dogs_and_ages_string = '{\"Oba\": 8.9, \"Moje\": 4.5, \"Nemo\": 1.25}'"
   ]
  },
  {
   "cell_type": "code",
   "execution_count": 45,
   "id": "1b6dace4",
   "metadata": {},
   "outputs": [
    {
     "data": {
      "text/plain": [
       "{'Oba': 8.9, 'Moje': 4.5, 'Nemo': 1.25}"
      ]
     },
     "execution_count": 45,
     "metadata": {},
     "output_type": "execute_result"
    }
   ],
   "source": [
    "dogs_and_ages_dict = json.loads(dogs_and_ages_string)\n",
    "dogs_and_ages_dict"
   ]
  },
  {
   "cell_type": "code",
   "execution_count": 46,
   "id": "0f1bde0e",
   "metadata": {},
   "outputs": [],
   "source": [
    "with open(\"./files/dogs_and_ages.json\", \"w\") as dog_file:\n",
    "    json.dump(dogs_and_ages_dict, dog_file)"
   ]
  },
  {
   "cell_type": "code",
   "execution_count": 47,
   "id": "71af8fd1",
   "metadata": {},
   "outputs": [
    {
     "name": "stdout",
     "output_type": "stream",
     "text": [
      "{\"Oba\": 8.9, \"Moje\": 4.5, \"Nemo\": 1.25}"
     ]
    }
   ],
   "source": [
    "!cat files/dogs_and_ages.json"
   ]
  },
  {
   "cell_type": "code",
   "execution_count": 48,
   "id": "3c33f058",
   "metadata": {},
   "outputs": [],
   "source": [
    "with open(\"./files/dogs_and_ages.json\", \"r\") as dog_file:\n",
    "    file_json = json.load(dog_file)"
   ]
  },
  {
   "cell_type": "code",
   "execution_count": 49,
   "id": "aeb24476",
   "metadata": {},
   "outputs": [
    {
     "data": {
      "text/plain": [
       "{'Oba': 8.9, 'Moje': 4.5, 'Nemo': 1.25}"
      ]
     },
     "execution_count": 49,
     "metadata": {},
     "output_type": "execute_result"
    }
   ],
   "source": [
    "file_json"
   ]
  },
  {
   "cell_type": "code",
   "execution_count": null,
   "id": "25006ef1",
   "metadata": {},
   "outputs": [],
   "source": []
  }
 ],
 "metadata": {
  "kernelspec": {
   "display_name": "Python 3",
   "language": "python",
   "name": "python3"
  },
  "language_info": {
   "codemirror_mode": {
    "name": "ipython",
    "version": 3
   },
   "file_extension": ".py",
   "mimetype": "text/x-python",
   "name": "python",
   "nbconvert_exporter": "python",
   "pygments_lexer": "ipython3",
   "version": "3.8.16"
  }
 },
 "nbformat": 4,
 "nbformat_minor": 5
}
