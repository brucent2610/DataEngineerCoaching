{
 "cells": [
  {
   "cell_type": "code",
   "execution_count": 1,
   "id": "71563184",
   "metadata": {},
   "outputs": [],
   "source": [
    "empty_list = []"
   ]
  },
  {
   "cell_type": "code",
   "execution_count": 2,
   "id": "47b806d7",
   "metadata": {},
   "outputs": [
    {
     "data": {
      "text/plain": [
       "list"
      ]
     },
     "execution_count": 2,
     "metadata": {},
     "output_type": "execute_result"
    }
   ],
   "source": [
    "type(empty_list)"
   ]
  },
  {
   "cell_type": "code",
   "execution_count": 3,
   "id": "40a9d70b",
   "metadata": {},
   "outputs": [
    {
     "data": {
      "text/plain": [
       "[]"
      ]
     },
     "execution_count": 3,
     "metadata": {},
     "output_type": "execute_result"
    }
   ],
   "source": [
    "empty_list"
   ]
  },
  {
   "cell_type": "code",
   "execution_count": 4,
   "id": "2a6dd9df",
   "metadata": {},
   "outputs": [
    {
     "name": "stdout",
     "output_type": "stream",
     "text": [
      "[]\n"
     ]
    }
   ],
   "source": [
    "print(empty_list)"
   ]
  },
  {
   "cell_type": "code",
   "execution_count": 5,
   "id": "f6345093",
   "metadata": {},
   "outputs": [
    {
     "data": {
      "text/plain": [
       "[1, 2, 3, 4, 5]"
      ]
     },
     "execution_count": 5,
     "metadata": {},
     "output_type": "execute_result"
    }
   ],
   "source": [
    "int_list = [1,2,3,4,5]\n",
    "int_list"
   ]
  },
  {
   "cell_type": "code",
   "execution_count": 6,
   "id": "72d34fdf",
   "metadata": {},
   "outputs": [
    {
     "data": {
      "text/plain": [
       "['Hello', 'Python', 'World']"
      ]
     },
     "execution_count": 6,
     "metadata": {},
     "output_type": "execute_result"
    }
   ],
   "source": [
    "string_list = [\"Hello\", \"Python\", \"World\"]\n",
    "string_list"
   ]
  },
  {
   "cell_type": "code",
   "execution_count": 7,
   "id": "7af9bec1",
   "metadata": {},
   "outputs": [
    {
     "data": {
      "text/plain": [
       "[5, 'Hello', True, 2.3555]"
      ]
     },
     "execution_count": 7,
     "metadata": {},
     "output_type": "execute_result"
    }
   ],
   "source": [
    "mixed_list = [5, \"Hello\", True, 2.3555]\n",
    "mixed_list"
   ]
  },
  {
   "cell_type": "code",
   "execution_count": 8,
   "id": "657c983a",
   "metadata": {},
   "outputs": [],
   "source": [
    "airbus_planes = [\"Airbus A380\", \"Airbus A350\", \"Prototype Airbus A390\"]"
   ]
  },
  {
   "cell_type": "code",
   "execution_count": 9,
   "id": "b84b0d4b",
   "metadata": {},
   "outputs": [
    {
     "data": {
      "text/plain": [
       "'Airbus A380'"
      ]
     },
     "execution_count": 9,
     "metadata": {},
     "output_type": "execute_result"
    }
   ],
   "source": [
    "airbus_planes[0]"
   ]
  },
  {
   "cell_type": "code",
   "execution_count": 10,
   "id": "db734f25",
   "metadata": {},
   "outputs": [
    {
     "data": {
      "text/plain": [
       "'Airbus A350'"
      ]
     },
     "execution_count": 10,
     "metadata": {},
     "output_type": "execute_result"
    }
   ],
   "source": [
    "airbus_planes[1]"
   ]
  },
  {
   "cell_type": "code",
   "execution_count": 11,
   "id": "a1f73ed6",
   "metadata": {},
   "outputs": [
    {
     "ename": "IndexError",
     "evalue": "list index out of range",
     "output_type": "error",
     "traceback": [
      "\u001b[0;31m---------------------------------------------------------------------------\u001b[0m",
      "\u001b[0;31mIndexError\u001b[0m                                Traceback (most recent call last)",
      "\u001b[0;32m<ipython-input-11-0726df5dcae3>\u001b[0m in \u001b[0;36m<module>\u001b[0;34m\u001b[0m\n\u001b[0;32m----> 1\u001b[0;31m \u001b[0mairbus_planes\u001b[0m\u001b[0;34m[\u001b[0m\u001b[0;36m3\u001b[0m\u001b[0;34m]\u001b[0m\u001b[0;34m\u001b[0m\u001b[0;34m\u001b[0m\u001b[0m\n\u001b[0m",
      "\u001b[0;31mIndexError\u001b[0m: list index out of range"
     ]
    }
   ],
   "source": [
    "airbus_planes[3]"
   ]
  },
  {
   "cell_type": "code",
   "execution_count": 12,
   "id": "5d2224c0",
   "metadata": {},
   "outputs": [
    {
     "data": {
      "text/plain": [
       "3"
      ]
     },
     "execution_count": 12,
     "metadata": {},
     "output_type": "execute_result"
    }
   ],
   "source": [
    "len(airbus_planes)"
   ]
  },
  {
   "cell_type": "code",
   "execution_count": 13,
   "id": "584377ae",
   "metadata": {},
   "outputs": [
    {
     "data": {
      "text/plain": [
       "['Airbus A350', 'Airbus A380', 'Prototype Airbus A390']"
      ]
     },
     "execution_count": 13,
     "metadata": {},
     "output_type": "execute_result"
    }
   ],
   "source": [
    "sorted(airbus_planes)"
   ]
  },
  {
   "cell_type": "code",
   "execution_count": 14,
   "id": "fd3fdb9b",
   "metadata": {},
   "outputs": [
    {
     "data": {
      "text/plain": [
       "['Boeing 707', 'Boeing 717', 'Boeing 727', 'Boeing 737']"
      ]
     },
     "execution_count": 14,
     "metadata": {},
     "output_type": "execute_result"
    }
   ],
   "source": [
    "boeing_planes = [\"Boeing 707\",\n",
    "                \"Boeing 717\",\n",
    "                \"Boeing 727\",\n",
    "                \"Boeing 737\"]\n",
    "boeing_planes"
   ]
  },
  {
   "cell_type": "code",
   "execution_count": 15,
   "id": "d91e6876",
   "metadata": {},
   "outputs": [
    {
     "data": {
      "text/plain": [
       "['Boeing 707', 'Boeing 717', 'Boeing 727', 'Boeing 737 Original']"
      ]
     },
     "execution_count": 15,
     "metadata": {},
     "output_type": "execute_result"
    }
   ],
   "source": [
    "boeing_planes[3] = \"Boeing 737 Original\"\n",
    "boeing_planes"
   ]
  },
  {
   "cell_type": "code",
   "execution_count": 16,
   "id": "85aae8ef",
   "metadata": {},
   "outputs": [
    {
     "data": {
      "text/plain": [
       "'Boeing 737 Original'"
      ]
     },
     "execution_count": 16,
     "metadata": {},
     "output_type": "execute_result"
    }
   ],
   "source": [
    "last_index = len(boeing_planes) - 1\n",
    "boeing_planes[last_index]"
   ]
  },
  {
   "cell_type": "code",
   "execution_count": 17,
   "id": "707d11c9",
   "metadata": {},
   "outputs": [
    {
     "data": {
      "text/plain": [
       "'Boeing 737 Original'"
      ]
     },
     "execution_count": 17,
     "metadata": {},
     "output_type": "execute_result"
    }
   ],
   "source": [
    "boeing_planes[-1]"
   ]
  },
  {
   "cell_type": "code",
   "execution_count": 18,
   "id": "eb4140d6",
   "metadata": {},
   "outputs": [
    {
     "data": {
      "text/plain": [
       "'Boeing 727'"
      ]
     },
     "execution_count": 18,
     "metadata": {},
     "output_type": "execute_result"
    }
   ],
   "source": [
    "boeing_planes[-2]"
   ]
  },
  {
   "cell_type": "code",
   "execution_count": 19,
   "id": "b8a7de25",
   "metadata": {},
   "outputs": [
    {
     "data": {
      "text/plain": [
       "['Boeing 707', 'Boeing 717', 'Boeing 727']"
      ]
     },
     "execution_count": 19,
     "metadata": {},
     "output_type": "execute_result"
    }
   ],
   "source": [
    "boeing_planes[0:3]"
   ]
  },
  {
   "cell_type": "code",
   "execution_count": 20,
   "id": "70cb6362",
   "metadata": {},
   "outputs": [
    {
     "data": {
      "text/plain": [
       "['Boeing 727', 'Boeing 737 Original']"
      ]
     },
     "execution_count": 20,
     "metadata": {},
     "output_type": "execute_result"
    }
   ],
   "source": [
    "boeing_planes[2:4]"
   ]
  },
  {
   "cell_type": "code",
   "execution_count": 21,
   "id": "2b819c9b",
   "metadata": {},
   "outputs": [
    {
     "data": {
      "text/plain": [
       "['Boeing 707', 'Boeing 717', 'Boeing 727']"
      ]
     },
     "execution_count": 21,
     "metadata": {},
     "output_type": "execute_result"
    }
   ],
   "source": [
    "boeing_planes[0:-1]"
   ]
  },
  {
   "cell_type": "code",
   "execution_count": 22,
   "id": "3f59d4c7",
   "metadata": {},
   "outputs": [],
   "source": [
    "boeing_planes.append(\"Boeing 747\")"
   ]
  },
  {
   "cell_type": "code",
   "execution_count": 23,
   "id": "6ece6231",
   "metadata": {},
   "outputs": [
    {
     "data": {
      "text/plain": [
       "['Boeing 707', 'Boeing 717', 'Boeing 727', 'Boeing 737 Original', 'Boeing 747']"
      ]
     },
     "execution_count": 23,
     "metadata": {},
     "output_type": "execute_result"
    }
   ],
   "source": [
    "boeing_planes"
   ]
  },
  {
   "cell_type": "code",
   "execution_count": 24,
   "id": "25e1f364",
   "metadata": {},
   "outputs": [],
   "source": [
    "boeing_planes.append(\"Boeing 767\")"
   ]
  },
  {
   "cell_type": "code",
   "execution_count": 25,
   "id": "3420e55d",
   "metadata": {},
   "outputs": [
    {
     "data": {
      "text/plain": [
       "['Boeing 707',\n",
       " 'Boeing 717',\n",
       " 'Boeing 727',\n",
       " 'Boeing 737 Original',\n",
       " 'Boeing 747',\n",
       " 'Boeing 767']"
      ]
     },
     "execution_count": 25,
     "metadata": {},
     "output_type": "execute_result"
    }
   ],
   "source": [
    "boeing_planes"
   ]
  },
  {
   "cell_type": "code",
   "execution_count": 26,
   "id": "9171530a",
   "metadata": {},
   "outputs": [
    {
     "data": {
      "text/plain": [
       "['Boeing 707',\n",
       " 'Boeing 717',\n",
       " 'Boeing 727',\n",
       " 'Boeing 737 Original',\n",
       " 'Boeing 737 Classic',\n",
       " 'Boeing 747',\n",
       " 'Boeing 767']"
      ]
     },
     "execution_count": 26,
     "metadata": {},
     "output_type": "execute_result"
    }
   ],
   "source": [
    "boeing_planes.insert(4, \"Boeing 737 Classic\")\n",
    "boeing_planes"
   ]
  },
  {
   "cell_type": "code",
   "execution_count": 27,
   "id": "696535bc",
   "metadata": {},
   "outputs": [
    {
     "data": {
      "text/plain": [
       "0"
      ]
     },
     "execution_count": 27,
     "metadata": {},
     "output_type": "execute_result"
    }
   ],
   "source": [
    "boeing_planes.index('Boeing 707')"
   ]
  },
  {
   "cell_type": "code",
   "execution_count": 28,
   "id": "a14680ec",
   "metadata": {},
   "outputs": [
    {
     "data": {
      "text/plain": [
       "5"
      ]
     },
     "execution_count": 28,
     "metadata": {},
     "output_type": "execute_result"
    }
   ],
   "source": [
    "boeing_planes.index('Boeing 747')"
   ]
  },
  {
   "cell_type": "code",
   "execution_count": 40,
   "id": "4e7178b8",
   "metadata": {},
   "outputs": [
    {
     "data": {
      "text/plain": [
       "['Hurricane', 'Tiget Moth']"
      ]
     },
     "execution_count": 40,
     "metadata": {},
     "output_type": "execute_result"
    }
   ],
   "source": [
    "fighter_jets = [\"Hurricane\", \"Tiget Moth\"]\n",
    "fighter_jets"
   ]
  },
  {
   "cell_type": "code",
   "execution_count": 41,
   "id": "7d55eac3",
   "metadata": {},
   "outputs": [
    {
     "data": {
      "text/plain": [
       "['Hurricane', 'F - 16', 'Tiget Moth']"
      ]
     },
     "execution_count": 41,
     "metadata": {},
     "output_type": "execute_result"
    }
   ],
   "source": [
    "fighter_jets.insert(1, \"F - 16\")\n",
    "fighter_jets"
   ]
  },
  {
   "cell_type": "code",
   "execution_count": 42,
   "id": "c3a89c3f",
   "metadata": {},
   "outputs": [
    {
     "data": {
      "text/plain": [
       "['F - 16', 'Tiget Moth']"
      ]
     },
     "execution_count": 42,
     "metadata": {},
     "output_type": "execute_result"
    }
   ],
   "source": [
    "fighter_jets.remove(\"Hurricane\")\n",
    "fighter_jets"
   ]
  },
  {
   "cell_type": "code",
   "execution_count": 43,
   "id": "f4a0bd73",
   "metadata": {},
   "outputs": [
    {
     "data": {
      "text/plain": [
       "['F - 16']"
      ]
     },
     "execution_count": 43,
     "metadata": {},
     "output_type": "execute_result"
    }
   ],
   "source": [
    "fighter_jets.pop()\n",
    "fighter_jets"
   ]
  },
  {
   "cell_type": "code",
   "execution_count": 47,
   "id": "ea23aa4a",
   "metadata": {},
   "outputs": [],
   "source": [
    "fighter_jets = [\"Hurricane\", \"Tiget Moth\", \"F -14\", \"F - 16\", \"Tiget Moth\"]"
   ]
  },
  {
   "cell_type": "code",
   "execution_count": 48,
   "id": "2a32cd85",
   "metadata": {},
   "outputs": [
    {
     "data": {
      "text/plain": [
       "['F - 16', 'F -14', 'Hurricane', 'Tiget Moth', 'Tiget Moth']"
      ]
     },
     "execution_count": 48,
     "metadata": {},
     "output_type": "execute_result"
    }
   ],
   "source": [
    "fighter_jets.sort()\n",
    "fighter_jets"
   ]
  },
  {
   "cell_type": "code",
   "execution_count": 49,
   "id": "0afd45bb",
   "metadata": {},
   "outputs": [
    {
     "data": {
      "text/plain": [
       "['Tiget Moth', 'Tiget Moth', 'Hurricane', 'F -14', 'F - 16']"
      ]
     },
     "execution_count": 49,
     "metadata": {},
     "output_type": "execute_result"
    }
   ],
   "source": [
    "fighter_jets.reverse()\n",
    "fighter_jets"
   ]
  },
  {
   "cell_type": "code",
   "execution_count": 50,
   "id": "263b9109",
   "metadata": {},
   "outputs": [
    {
     "data": {
      "text/plain": [
       "['Airbus A380',\n",
       " 'Airbus A350',\n",
       " 'Prototype Airbus A390',\n",
       " 'Boeing 707',\n",
       " 'Boeing 717',\n",
       " 'Boeing 727',\n",
       " 'Boeing 737 Original',\n",
       " 'Boeing 737 Classic',\n",
       " 'Boeing 747',\n",
       " 'Boeing 767',\n",
       " 'Tiget Moth',\n",
       " 'Tiget Moth',\n",
       " 'Hurricane',\n",
       " 'F -14',\n",
       " 'F - 16']"
      ]
     },
     "execution_count": 50,
     "metadata": {},
     "output_type": "execute_result"
    }
   ],
   "source": [
    "all_planes = airbus_planes + boeing_planes + fighter_jets\n",
    "all_planes"
   ]
  },
  {
   "cell_type": "code",
   "execution_count": 51,
   "id": "b5290e29",
   "metadata": {},
   "outputs": [],
   "source": [
    "airbus_planes.clear()"
   ]
  },
  {
   "cell_type": "code",
   "execution_count": 53,
   "id": "b2dea83b",
   "metadata": {},
   "outputs": [
    {
     "data": {
      "text/plain": [
       "['Boeing 707',\n",
       " 'Boeing 717',\n",
       " 'Boeing 727',\n",
       " 'Boeing 737 Original',\n",
       " 'Boeing 737 Classic',\n",
       " 'Boeing 747',\n",
       " 'Boeing 767']"
      ]
     },
     "execution_count": 53,
     "metadata": {},
     "output_type": "execute_result"
    }
   ],
   "source": [
    "boeing_planes_copy = boeing_planes.copy()\n",
    "boeing_planes_copy"
   ]
  },
  {
   "cell_type": "code",
   "execution_count": 54,
   "id": "9c097445",
   "metadata": {},
   "outputs": [
    {
     "ename": "NameError",
     "evalue": "name 'boeing_planes' is not defined",
     "output_type": "error",
     "traceback": [
      "\u001b[0;31m---------------------------------------------------------------------------\u001b[0m",
      "\u001b[0;31mNameError\u001b[0m                                 Traceback (most recent call last)",
      "\u001b[0;32m<ipython-input-54-b20e6a7dda84>\u001b[0m in \u001b[0;36m<module>\u001b[0;34m\u001b[0m\n\u001b[1;32m      1\u001b[0m \u001b[0;32mdel\u001b[0m \u001b[0mboeing_planes\u001b[0m\u001b[0;34m\u001b[0m\u001b[0;34m\u001b[0m\u001b[0m\n\u001b[0;32m----> 2\u001b[0;31m \u001b[0mboeing_planes\u001b[0m\u001b[0;34m\u001b[0m\u001b[0;34m\u001b[0m\u001b[0m\n\u001b[0m",
      "\u001b[0;31mNameError\u001b[0m: name 'boeing_planes' is not defined"
     ]
    }
   ],
   "source": [
    "del boeing_planes\n",
    "boeing_planes"
   ]
  },
  {
   "cell_type": "code",
   "execution_count": 55,
   "id": "e36a4bdc",
   "metadata": {},
   "outputs": [
    {
     "data": {
      "text/plain": [
       "['Boeing 707',\n",
       " 'Boeing 717',\n",
       " 'Boeing 727',\n",
       " 'Boeing 737 Original',\n",
       " 'Boeing 737 Classic',\n",
       " 'Boeing 747',\n",
       " 'Boeing 767']"
      ]
     },
     "execution_count": 55,
     "metadata": {},
     "output_type": "execute_result"
    }
   ],
   "source": [
    "boeing_planes_copy"
   ]
  },
  {
   "cell_type": "code",
   "execution_count": 56,
   "id": "313e0215",
   "metadata": {},
   "outputs": [],
   "source": [
    "boeing_planes_shallow_copy = boeing_planes_copy"
   ]
  },
  {
   "cell_type": "code",
   "execution_count": 57,
   "id": "26ff59b2",
   "metadata": {},
   "outputs": [
    {
     "data": {
      "text/plain": [
       "['Boeing 707',\n",
       " 'Boeing 717',\n",
       " 'Boeing 727',\n",
       " 'Boeing 737 Original',\n",
       " 'Boeing 737 Classic',\n",
       " 'Boeing 747',\n",
       " 'Boeing 767']"
      ]
     },
     "execution_count": 57,
     "metadata": {},
     "output_type": "execute_result"
    }
   ],
   "source": [
    "boeing_planes_shallow_copy"
   ]
  },
  {
   "cell_type": "code",
   "execution_count": 58,
   "id": "727ec50b",
   "metadata": {},
   "outputs": [
    {
     "data": {
      "text/plain": [
       "['Boeing 707',\n",
       " 'Boeing 717',\n",
       " 'Boeing 727',\n",
       " 'Boeing 737 Original',\n",
       " 'Boeing 737 Classic',\n",
       " 'Boeing 747',\n",
       " 'Boeing 767']"
      ]
     },
     "execution_count": 58,
     "metadata": {},
     "output_type": "execute_result"
    }
   ],
   "source": [
    "boeing_planes_copy"
   ]
  },
  {
   "cell_type": "code",
   "execution_count": null,
   "id": "dcc08f25",
   "metadata": {},
   "outputs": [],
   "source": []
  }
 ],
 "metadata": {
  "kernelspec": {
   "display_name": "Python 3",
   "language": "python",
   "name": "python3"
  },
  "language_info": {
   "codemirror_mode": {
    "name": "ipython",
    "version": 3
   },
   "file_extension": ".py",
   "mimetype": "text/x-python",
   "name": "python",
   "nbconvert_exporter": "python",
   "pygments_lexer": "ipython3",
   "version": "3.8.16"
  }
 },
 "nbformat": 4,
 "nbformat_minor": 5
}
