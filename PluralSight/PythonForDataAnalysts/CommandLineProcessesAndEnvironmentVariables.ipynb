{
 "cells": [
  {
   "cell_type": "code",
   "execution_count": 1,
   "id": "c5f270f1",
   "metadata": {},
   "outputs": [],
   "source": [
    "import os"
   ]
  },
  {
   "cell_type": "code",
   "execution_count": 3,
   "id": "af14975e",
   "metadata": {},
   "outputs": [
    {
     "data": {
      "text/plain": [
       "<module 'os' from '/usr/local/Cellar/python@3.8/3.8.16/Frameworks/Python.framework/Versions/3.8/lib/python3.8/os.py'>"
      ]
     },
     "execution_count": 3,
     "metadata": {},
     "output_type": "execute_result"
    }
   ],
   "source": [
    "os"
   ]
  },
  {
   "cell_type": "code",
   "execution_count": 4,
   "id": "cd7b4ed8",
   "metadata": {},
   "outputs": [
    {
     "data": {
      "text/plain": [
       "<module 'os' from '/usr/local/Cellar/python@3.8/3.8.16/Frameworks/Python.framework/Versions/3.8/lib/python3.8/os.py'>"
      ]
     },
     "execution_count": 4,
     "metadata": {},
     "output_type": "execute_result"
    }
   ],
   "source": [
    "os"
   ]
  },
  {
   "cell_type": "code",
   "execution_count": 5,
   "id": "0b72abf2",
   "metadata": {},
   "outputs": [
    {
     "name": "stdout",
     "output_type": "stream",
     "text": [
      "\u001b[31mERROR: Could not find a version that satisfies the requirement os (from versions: none)\u001b[0m\u001b[31m\n",
      "\u001b[0m\u001b[31mERROR: No matching distribution found for os\u001b[0m\u001b[31m\n",
      "\u001b[0mNote: you may need to restart the kernel to use updated packages.\n"
     ]
    }
   ],
   "source": [
    "pip install os"
   ]
  },
  {
   "cell_type": "code",
   "execution_count": 6,
   "id": "7ee8ea25",
   "metadata": {},
   "outputs": [
    {
     "data": {
      "text/plain": [
       "environ{'TERM_SESSION_ID': 'w1t0p0:56CBC690-2E02-4124-A25F-D072B481AF3D',\n",
       "        'SSH_AUTH_SOCK': '/private/tmp/com.apple.launchd.g8Y2EUXuvU/Listeners',\n",
       "        'LC_TERMINAL_VERSION': '3.4.18',\n",
       "        'COLORFGBG': '7;0',\n",
       "        'ITERM_PROFILE': 'Default',\n",
       "        'XPC_FLAGS': '0x0',\n",
       "        'PWD': '/Users/macintoshhd/Public/Project/Learn/PluralSight/PythonForDataAnalysts',\n",
       "        'SHELL': '/bin/zsh',\n",
       "        '__CFBundleIdentifier': 'com.googlecode.iterm2',\n",
       "        'LC_CTYPE': 'UTF-8',\n",
       "        'TERM_PROGRAM_VERSION': '3.4.18',\n",
       "        'TERM_PROGRAM': 'iTerm.app',\n",
       "        'PATH': '/Users/macintoshhd/anaconda3/bin:/Users/macintoshhd/anaconda3/condabin:/Users/macintoshhd/.nvm/versions/node/v18.1.0/bin:/opt/local/bin:/opt/local/sbin:/usr/local/bin:/System/Cryptexes/App/usr/bin:/usr/bin:/bin:/usr/sbin:/sbin:/Library/Apple/usr/bin',\n",
       "        'LC_TERMINAL': 'iTerm2',\n",
       "        'COLORTERM': 'truecolor',\n",
       "        'COMMAND_MODE': 'unix2003',\n",
       "        'TERM': 'xterm-color',\n",
       "        'HOME': '/Users/macintoshhd',\n",
       "        'TMPDIR': '/var/folders/ry/jxnttlfx27x5ctbf007f2htr0000gn/T/',\n",
       "        'USER': 'macintoshhd',\n",
       "        'XPC_SERVICE_NAME': '0',\n",
       "        'LOGNAME': 'macintoshhd',\n",
       "        'ITERM_SESSION_ID': 'w1t0p0:56CBC690-2E02-4124-A25F-D072B481AF3D',\n",
       "        '__CF_USER_TEXT_ENCODING': '0x1F5:0x0:0x0',\n",
       "        'SHLVL': '1',\n",
       "        'OLDPWD': '/Users/macintoshhd/Public/Project/Learn/PluralSight',\n",
       "        'P9K_TTY': 'old',\n",
       "        '_P9K_TTY': '/dev/ttys007',\n",
       "        'ZSH': '/Users/macintoshhd/.oh-my-zsh',\n",
       "        'PAGER': 'cat',\n",
       "        'LESS': '-R',\n",
       "        'LSCOLORS': 'Gxfxcxdxbxegedabagacad',\n",
       "        'P9K_SSH': '0',\n",
       "        'NVM_DIR': '/Users/macintoshhd/.nvm',\n",
       "        'NVM_CD_FLAGS': '-q',\n",
       "        'NVM_NODEJS_ORG_MIRROR': 'https://nodejs.org/dist',\n",
       "        'NVM_IOJS_ORG_MIRROR': 'https://iojs.org/dist',\n",
       "        'MANPATH': '/Users/macintoshhd/.nvm/versions/node/v18.1.0/share/man:/opt/local/share/man:/opt/local/man:/usr/local/share/man:/System/Cryptexes/App/usr/share/man:/usr/share/man:/Applications/Xcode.app/Contents/Developer/Platforms/MacOSX.platform/Developer/SDKs/MacOSX.sdk/usr/share/man:/Applications/Xcode.app/Contents/Developer/usr/share/man:/Applications/Xcode.app/Contents/Developer/Toolchains/XcodeDefault.xctoolchain/usr/share/man',\n",
       "        'NVM_BIN': '/Users/macintoshhd/.nvm/versions/node/v18.1.0/bin',\n",
       "        'CONDA_EXE': '/Users/macintoshhd/anaconda3/bin/conda',\n",
       "        '_CE_M': '',\n",
       "        '_CE_CONDA': '',\n",
       "        'CONDA_PYTHON_EXE': '/Users/macintoshhd/anaconda3/bin/python',\n",
       "        'CONDA_SHLVL': '1',\n",
       "        'CONDA_PREFIX': '/Users/macintoshhd/anaconda3',\n",
       "        'CONDA_DEFAULT_ENV': 'base',\n",
       "        'CONDA_PROMPT_MODIFIER': '(base) ',\n",
       "        '_': '/Users/macintoshhd/anaconda3/bin/jupyter',\n",
       "        'PYDEVD_USE_FRAME_EVAL': 'NO',\n",
       "        'JPY_PARENT_PID': '77712',\n",
       "        'CLICOLOR': '1',\n",
       "        'GIT_PAGER': 'cat',\n",
       "        'MPLBACKEND': 'module://ipykernel.pylab.backend_inline'}"
      ]
     },
     "execution_count": 6,
     "metadata": {},
     "output_type": "execute_result"
    }
   ],
   "source": [
    "os.environ"
   ]
  },
  {
   "cell_type": "code",
   "execution_count": 7,
   "id": "ff011080",
   "metadata": {},
   "outputs": [
    {
     "name": "stdout",
     "output_type": "stream",
     "text": [
      "total 12264\r\n",
      "-rw-r--r--  1 macintoshhd  staff     7630 May  2 07:52 ArgumentReassignmentVsModification.ipynb\r\n",
      "-rw-r--r--  1 macintoshhd  staff     5448 May  1 15:32 BreakContinueAndPass.ipynb\r\n",
      "-rw-r--r--  1 macintoshhd  staff    14575 May  1 11:38 BuiltInFunctions.ipynb\r\n",
      "-rw-r--r--  1 macintoshhd  staff     2136 May  2 10:56 CommandLineProcessesAndEnvironmentVariables.ipynb\r\n",
      "-rw-r--r--  1 macintoshhd  staff     8310 May  1 12:45 Dictionaries.ipynb\r\n",
      "-rw-r--r--  1 macintoshhd  staff     6877 May  2 08:11 FirstClassFunctions.ipynb\r\n",
      "-rw-r--r--  1 macintoshhd  staff    13384 May  1 15:12 ForLoop.ipynb\r\n",
      "-rw-r--r--  1 macintoshhd  staff    14204 May  1 18:19 FunctionsInputArgumentsAndReturnValues.ipynb\r\n",
      "-rw-r--r--  1 macintoshhd  staff    11946 May  1 14:57 IfElseAndElifStatements.ipynb\r\n",
      "-rw-r--r--  1 macintoshhd  staff    11510 May  2 08:32 ImportingModules.ipynb\r\n",
      "-rw-r--r--  1 macintoshhd  staff     6497 May  2 08:01 KeywordArgumentsDefaultValues.ipynb\r\n",
      "-rw-r--r--  1 macintoshhd  staff    17856 May  1 11:56 Lists.ipynb\r\n",
      "-rw-r--r--  1 macintoshhd  staff     1316 Apr 28 16:46 SimpleExpression.ipynb\r\n",
      "-rw-r--r--  1 macintoshhd  staff     7666 May  1 12:04 Tuples.ipynb\r\n",
      "-rw-r--r--  1 macintoshhd  staff  6119935 May  1 15:22 WhileLoops.ipynb\r\n"
     ]
    }
   ],
   "source": [
    "!ls -l"
   ]
  },
  {
   "cell_type": "code",
   "execution_count": 8,
   "id": "051e6bc5",
   "metadata": {},
   "outputs": [
    {
     "data": {
      "text/plain": [
       "['ImportingModules.ipynb',\n",
       " 'BuiltInFunctions.ipynb',\n",
       " 'ArgumentReassignmentVsModification.ipynb',\n",
       " 'FunctionsInputArgumentsAndReturnValues.ipynb',\n",
       " 'ForLoop.ipynb',\n",
       " 'IfElseAndElifStatements.ipynb',\n",
       " 'Lists.ipynb',\n",
       " 'Tuples.ipynb',\n",
       " 'FirstClassFunctions.ipynb',\n",
       " 'CommandLineProcessesAndEnvironmentVariables.ipynb',\n",
       " 'BreakContinueAndPass.ipynb',\n",
       " 'KeywordArgumentsDefaultValues.ipynb',\n",
       " 'Dictionaries.ipynb',\n",
       " 'SimpleExpression.ipynb',\n",
       " '.ipynb_checkpoints',\n",
       " 'WhileLoops.ipynb']"
      ]
     },
     "execution_count": 8,
     "metadata": {},
     "output_type": "execute_result"
    }
   ],
   "source": [
    "os.listdir()"
   ]
  },
  {
   "cell_type": "code",
   "execution_count": 9,
   "id": "af1f2185",
   "metadata": {},
   "outputs": [
    {
     "name": "stdout",
     "output_type": "stream",
     "text": [
      "CommandLineProcessesAndEnvironmentVariables.ipynb:      \"-rw-r--r--  1 macintoshhd  staff    11510 May  2 08:32 ImportingModules.ipynb\\r\\n\",\r\n"
     ]
    }
   ],
   "source": [
    "!grep -e \"Module\" *"
   ]
  },
  {
   "cell_type": "code",
   "execution_count": 10,
   "id": "a9d3d546",
   "metadata": {},
   "outputs": [],
   "source": [
    "!grep -e \"Module\" * > modules.txt"
   ]
  },
  {
   "cell_type": "code",
   "execution_count": 11,
   "id": "56c3a07f",
   "metadata": {},
   "outputs": [
    {
     "name": "stdout",
     "output_type": "stream",
     "text": [
      "ArgumentReassignmentVsModification.ipynb\r\n",
      "BreakContinueAndPass.ipynb\r\n",
      "BuiltInFunctions.ipynb\r\n",
      "CommandLineProcessesAndEnvironmentVariables.ipynb\r\n",
      "Dictionaries.ipynb\r\n",
      "FirstClassFunctions.ipynb\r\n",
      "ForLoop.ipynb\r\n",
      "FunctionsInputArgumentsAndReturnValues.ipynb\r\n",
      "IfElseAndElifStatements.ipynb\r\n",
      "ImportingModules.ipynb\r\n",
      "KeywordArgumentsDefaultValues.ipynb\r\n",
      "Lists.ipynb\r\n",
      "SimpleExpression.ipynb\r\n",
      "Tuples.ipynb\r\n",
      "WhileLoops.ipynb\r\n",
      "modules.txt\r\n"
     ]
    }
   ],
   "source": [
    "!ls"
   ]
  },
  {
   "cell_type": "code",
   "execution_count": 12,
   "id": "ad3fd24c",
   "metadata": {},
   "outputs": [
    {
     "name": "stdout",
     "output_type": "stream",
     "text": [
      "CommandLineProcessesAndEnvironmentVariables.ipynb:      \"-rw-r--r--  1 macintoshhd  staff    11510 May  2 08:32 ImportingModules.ipynb\\r\\n\",\r\n"
     ]
    }
   ],
   "source": [
    "!cat modules.txt"
   ]
  },
  {
   "cell_type": "code",
   "execution_count": 13,
   "id": "71c65917",
   "metadata": {},
   "outputs": [],
   "source": [
    "import subprocess"
   ]
  },
  {
   "cell_type": "code",
   "execution_count": 14,
   "id": "f7437c03",
   "metadata": {},
   "outputs": [
    {
     "data": {
      "text/plain": [
       "0"
      ]
     },
     "execution_count": 14,
     "metadata": {},
     "output_type": "execute_result"
    }
   ],
   "source": [
    "subprocess.call([\"ls\", \"-l\"])"
   ]
  },
  {
   "cell_type": "code",
   "execution_count": 15,
   "id": "943f2c5b",
   "metadata": {},
   "outputs": [
    {
     "name": "stdout",
     "output_type": "stream",
     "text": [
      "b'total 12288\\n-rw-r--r--  1 macintoshhd  staff     7630 May  2 07:52 ArgumentReassignmentVsModification.ipynb\\n-rw-r--r--  1 macintoshhd  staff     5448 May  1 15:32 BreakContinueAndPass.ipynb\\n-rw-r--r--  1 macintoshhd  staff    14575 May  1 11:38 BuiltInFunctions.ipynb\\n-rw-r--r--  1 macintoshhd  staff    11050 May  2 11:00 CommandLineProcessesAndEnvironmentVariables.ipynb\\n-rw-r--r--  1 macintoshhd  staff     8310 May  1 12:45 Dictionaries.ipynb\\n-rw-r--r--  1 macintoshhd  staff     6877 May  2 08:11 FirstClassFunctions.ipynb\\n-rw-r--r--  1 macintoshhd  staff    13384 May  1 15:12 ForLoop.ipynb\\n-rw-r--r--  1 macintoshhd  staff    14204 May  1 18:19 FunctionsInputArgumentsAndReturnValues.ipynb\\n-rw-r--r--  1 macintoshhd  staff    11946 May  1 14:57 IfElseAndElifStatements.ipynb\\n-rw-r--r--  1 macintoshhd  staff    11510 May  2 08:32 ImportingModules.ipynb\\n-rw-r--r--  1 macintoshhd  staff     6497 May  2 08:01 KeywordArgumentsDefaultValues.ipynb\\n-rw-r--r--  1 macintoshhd  staff    17856 May  1 11:56 Lists.ipynb\\n-rw-r--r--  1 macintoshhd  staff     1316 Apr 28 16:46 SimpleExpression.ipynb\\n-rw-r--r--  1 macintoshhd  staff     7666 May  1 12:04 Tuples.ipynb\\n-rw-r--r--  1 macintoshhd  staff  6119935 May  1 15:22 WhileLoops.ipynb\\n-rw-r--r--  1 macintoshhd  staff      141 May  2 10:59 modules.txt\\n'\n"
     ]
    }
   ],
   "source": [
    "output = subprocess.check_output([\"ls\", \"-l\"])\n",
    "print(output)"
   ]
  },
  {
   "cell_type": "code",
   "execution_count": 16,
   "id": "6d93f783",
   "metadata": {},
   "outputs": [],
   "source": [
    "from subprocess import Popen, PIPE"
   ]
  },
  {
   "cell_type": "code",
   "execution_count": 18,
   "id": "8f6e6213",
   "metadata": {},
   "outputs": [],
   "source": [
    "process = Popen([\"cat\", \"modules.txt\"], stdout=PIPE, stderr=PIPE)"
   ]
  },
  {
   "cell_type": "code",
   "execution_count": 19,
   "id": "9983cd25",
   "metadata": {},
   "outputs": [],
   "source": [
    "stdout, stderr = process.communicate()"
   ]
  },
  {
   "cell_type": "code",
   "execution_count": 20,
   "id": "a467cc94",
   "metadata": {},
   "outputs": [
    {
     "data": {
      "text/plain": [
       "b'CommandLineProcessesAndEnvironmentVariables.ipynb:      \"-rw-r--r--  1 macintoshhd  staff    11510 May  2 08:32 ImportingModules.ipynb\\\\r\\\\n\",\\n'"
      ]
     },
     "execution_count": 20,
     "metadata": {},
     "output_type": "execute_result"
    }
   ],
   "source": [
    "stdout"
   ]
  },
  {
   "cell_type": "code",
   "execution_count": 21,
   "id": "2bfa530b",
   "metadata": {},
   "outputs": [
    {
     "data": {
      "text/plain": [
       "b''"
      ]
     },
     "execution_count": 21,
     "metadata": {},
     "output_type": "execute_result"
    }
   ],
   "source": [
    "stderr"
   ]
  },
  {
   "cell_type": "code",
   "execution_count": 22,
   "id": "002b9829",
   "metadata": {},
   "outputs": [],
   "source": [
    "process = Popen([\"cat\", \"nomodules.txt\"], stdout=PIPE, stderr=PIPE)"
   ]
  },
  {
   "cell_type": "code",
   "execution_count": 23,
   "id": "1ab52256",
   "metadata": {},
   "outputs": [],
   "source": [
    "stdout, stderr = process.communicate()"
   ]
  },
  {
   "cell_type": "code",
   "execution_count": 24,
   "id": "d5192723",
   "metadata": {},
   "outputs": [
    {
     "data": {
      "text/plain": [
       "b''"
      ]
     },
     "execution_count": 24,
     "metadata": {},
     "output_type": "execute_result"
    }
   ],
   "source": [
    "stdout"
   ]
  },
  {
   "cell_type": "code",
   "execution_count": 25,
   "id": "bf2b2bc3",
   "metadata": {},
   "outputs": [
    {
     "data": {
      "text/plain": [
       "b'cat: nomodules.txt: No such file or directory\\n'"
      ]
     },
     "execution_count": 25,
     "metadata": {},
     "output_type": "execute_result"
    }
   ],
   "source": [
    "stderr"
   ]
  },
  {
   "cell_type": "code",
   "execution_count": null,
   "id": "f454821a",
   "metadata": {},
   "outputs": [],
   "source": []
  }
 ],
 "metadata": {
  "kernelspec": {
   "display_name": "Python 3",
   "language": "python",
   "name": "python3"
  },
  "language_info": {
   "codemirror_mode": {
    "name": "ipython",
    "version": 3
   },
   "file_extension": ".py",
   "mimetype": "text/x-python",
   "name": "python",
   "nbconvert_exporter": "python",
   "pygments_lexer": "ipython3",
   "version": "3.8.16"
  }
 },
 "nbformat": 4,
 "nbformat_minor": 5
}
