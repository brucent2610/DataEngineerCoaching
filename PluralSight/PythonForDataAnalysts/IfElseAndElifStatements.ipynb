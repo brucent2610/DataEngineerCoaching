{
 "cells": [
  {
   "cell_type": "code",
   "execution_count": 1,
   "id": "3637c7a6",
   "metadata": {},
   "outputs": [
    {
     "name": "stdout",
     "output_type": "stream",
     "text": [
      "25 is less than 30\n"
     ]
    }
   ],
   "source": [
    "if 25 < 30:\n",
    "    print(\"25 is less than 30\")"
   ]
  },
  {
   "cell_type": "code",
   "execution_count": 3,
   "id": "984e714c",
   "metadata": {},
   "outputs": [],
   "source": [
    "if 25 > 30:\n",
    "    print(\"Really? 25 is greater than 30\")"
   ]
  },
  {
   "cell_type": "code",
   "execution_count": 5,
   "id": "5e52f5c6",
   "metadata": {},
   "outputs": [],
   "source": [
    "if 25 == 30:\n",
    "    print(\"25 and 30 are exacly the same value\")"
   ]
  },
  {
   "cell_type": "code",
   "execution_count": 6,
   "id": "f67cdc5c",
   "metadata": {},
   "outputs": [
    {
     "name": "stdout",
     "output_type": "stream",
     "text": [
      "25 and 30 are NOT exacly the same value\n"
     ]
    }
   ],
   "source": [
    "if not 25 == 30:\n",
    "    print(\"25 and 30 are NOT exacly the same value\")"
   ]
  },
  {
   "cell_type": "code",
   "execution_count": 7,
   "id": "d827df4d",
   "metadata": {},
   "outputs": [
    {
     "ename": "SyntaxError",
     "evalue": "invalid syntax (<ipython-input-7-13e255727256>, line 1)",
     "output_type": "error",
     "traceback": [
      "\u001b[0;36m  File \u001b[0;32m\"<ipython-input-7-13e255727256>\"\u001b[0;36m, line \u001b[0;32m1\u001b[0m\n\u001b[0;31m    if 25 = 30:\u001b[0m\n\u001b[0m          ^\u001b[0m\n\u001b[0;31mSyntaxError\u001b[0m\u001b[0;31m:\u001b[0m invalid syntax\n"
     ]
    }
   ],
   "source": [
    "if 25 = 30:\n",
    "    print(\"25 and 30 are exacly the same value\")"
   ]
  },
  {
   "cell_type": "code",
   "execution_count": 8,
   "id": "fab0fa7c",
   "metadata": {},
   "outputs": [
    {
     "name": "stdout",
     "output_type": "stream",
     "text": [
      "The number is greater than 0\n"
     ]
    }
   ],
   "source": [
    "num = 225\n",
    "if num > 0:\n",
    "    print(\"The number is greater than 0\")"
   ]
  },
  {
   "cell_type": "code",
   "execution_count": 9,
   "id": "273f0846",
   "metadata": {},
   "outputs": [
    {
     "name": "stdout",
     "output_type": "stream",
     "text": [
      "The number is greater than 0 225\n"
     ]
    }
   ],
   "source": [
    "if num:\n",
    "    print(\"The number is greater than 0\", num)"
   ]
  },
  {
   "cell_type": "code",
   "execution_count": 10,
   "id": "8d63ced3",
   "metadata": {},
   "outputs": [
    {
     "name": "stdout",
     "output_type": "stream",
     "text": [
      "The number is greater than 0 -1\n"
     ]
    }
   ],
   "source": [
    "test = -1\n",
    "if test:\n",
    "    print(\"The number is greater than 0\", test)"
   ]
  },
  {
   "cell_type": "code",
   "execution_count": 11,
   "id": "badc1811",
   "metadata": {},
   "outputs": [
    {
     "name": "stdout",
     "output_type": "stream",
     "text": [
      "165 + 35 == 100 + 100 is correct\n"
     ]
    }
   ],
   "source": [
    "if 165 + 35 == 100 + 100:\n",
    "    print(\"165 + 35 == 100 + 100 is correct\")"
   ]
  },
  {
   "cell_type": "code",
   "execution_count": 12,
   "id": "7ab77ef2",
   "metadata": {},
   "outputs": [
    {
     "ename": "IndentationError",
     "evalue": "expected an indented block (<ipython-input-12-22d69131be50>, line 2)",
     "output_type": "error",
     "traceback": [
      "\u001b[0;36m  File \u001b[0;32m\"<ipython-input-12-22d69131be50>\"\u001b[0;36m, line \u001b[0;32m2\u001b[0m\n\u001b[0;31m    print(\"55 >= 45\")\u001b[0m\n\u001b[0m    ^\u001b[0m\n\u001b[0;31mIndentationError\u001b[0m\u001b[0;31m:\u001b[0m expected an indented block\n"
     ]
    }
   ],
   "source": [
    "if 55 >= 45:\n",
    "print(\"55 >= 45\")"
   ]
  },
  {
   "cell_type": "code",
   "execution_count": 13,
   "id": "94cf4331",
   "metadata": {},
   "outputs": [],
   "source": [
    "salary = 1000\n",
    "expenses = 770"
   ]
  },
  {
   "cell_type": "code",
   "execution_count": 14,
   "id": "c254179d",
   "metadata": {},
   "outputs": [],
   "source": [
    "living_with_means = False\n",
    "if salary - expenses > 0:\n",
    "    living_with_means = True"
   ]
  },
  {
   "cell_type": "code",
   "execution_count": 15,
   "id": "d9da7c01",
   "metadata": {},
   "outputs": [
    {
     "name": "stdout",
     "output_type": "stream",
     "text": [
      "Am I living within my means? True\n"
     ]
    }
   ],
   "source": [
    "print (\"Am I living within my means?\", living_with_means)"
   ]
  },
  {
   "cell_type": "code",
   "execution_count": 16,
   "id": "fe5254ad",
   "metadata": {},
   "outputs": [
    {
     "name": "stdout",
     "output_type": "stream",
     "text": [
      "100 > 50 > 10\n"
     ]
    }
   ],
   "source": [
    "if 100 > 50 > 10:\n",
    "    print (\"100 > 50 > 10\")"
   ]
  },
  {
   "cell_type": "code",
   "execution_count": 17,
   "id": "f8a3dc77",
   "metadata": {},
   "outputs": [],
   "source": [
    "if 100 < 50 < 10:\n",
    "    print (\"100 < 50 < 10\")"
   ]
  },
  {
   "cell_type": "code",
   "execution_count": 18,
   "id": "33a95a1c",
   "metadata": {},
   "outputs": [
    {
     "name": "stdout",
     "output_type": "stream",
     "text": [
      "I'm glad you're saving but perhaps your expenses could be lower?\n"
     ]
    }
   ],
   "source": [
    "salary = 1000\n",
    "expenses = 770\n",
    "living_with_means = salary - expenses > 0\n",
    "if living_with_means and expenses > 500:\n",
    "    print (\"I'm glad you're saving but perhaps your expenses could be lower?\")"
   ]
  },
  {
   "cell_type": "code",
   "execution_count": 19,
   "id": "295abee8",
   "metadata": {},
   "outputs": [
    {
     "name": "stdout",
     "output_type": "stream",
     "text": [
      "this is printed because 2 is definitely less than 5\n"
     ]
    }
   ],
   "source": [
    "if 2 <= 5 or 7 >= 8:\n",
    "    print (\"this is printed because 2 is definitely less than 5\")"
   ]
  },
  {
   "cell_type": "code",
   "execution_count": 20,
   "id": "d2b7becb",
   "metadata": {},
   "outputs": [
    {
     "name": "stdout",
     "output_type": "stream",
     "text": [
      "Saving for the month:  230\n"
     ]
    }
   ],
   "source": [
    "salary = 1000\n",
    "expenses = 770\n",
    "\n",
    "if salary > expenses:\n",
    "    print (\"Saving for the month: \", salary - expenses)\n",
    "else:\n",
    "    print (\"Loan to tide you over: \", expenses - salary)"
   ]
  },
  {
   "cell_type": "code",
   "execution_count": 21,
   "id": "686c2c67",
   "metadata": {},
   "outputs": [
    {
     "name": "stdout",
     "output_type": "stream",
     "text": [
      "Loan to tide you over:  100\n"
     ]
    }
   ],
   "source": [
    "salary = 1000\n",
    "expenses = 1100\n",
    "\n",
    "if salary > expenses:\n",
    "    print (\"Saving for the month: \", salary - expenses)\n",
    "else:\n",
    "    print (\"Loan to tide you over: \", expenses - salary)"
   ]
  },
  {
   "cell_type": "code",
   "execution_count": 23,
   "id": "a48c4177",
   "metadata": {},
   "outputs": [
    {
     "name": "stdout",
     "output_type": "stream",
     "text": [
      "Smallest value in list is negative\n"
     ]
    }
   ],
   "source": [
    "some_list = [3, 4, 6, 10, 100, 22, 21, -1]\n",
    "if(min(some_list) < 0):\n",
    "    print (\"Smallest value in list is negative\")\n",
    "else: \n",
    "    print (\"Smallest value in list is postive\")"
   ]
  },
  {
   "cell_type": "code",
   "execution_count": 26,
   "id": "060adcc6",
   "metadata": {},
   "outputs": [
    {
     "name": "stdout",
     "output_type": "stream",
     "text": [
      "Loan to tide you over:  100\n",
      "Savings:  0 Loans:  100\n"
     ]
    }
   ],
   "source": [
    "salary = 1000\n",
    "expenses = 1100\n",
    "\n",
    "savings = 0\n",
    "loans = 0\n",
    "\n",
    "if salary > expenses:\n",
    "    savings = salary - expenses\n",
    "    print (\"Saving for the month: \", savings)\n",
    "else:\n",
    "    loans = abs(salary - expenses)\n",
    "    print (\"Loan to tide you over: \", loans)\n",
    "    \n",
    "print(\"Savings: \", savings, \"Loans: \", loans)"
   ]
  },
  {
   "cell_type": "code",
   "execution_count": 27,
   "id": "68739200",
   "metadata": {},
   "outputs": [],
   "source": [
    "classic_cars = [\"Pierce Arrow\", \"Oldsmobile\", \"Mustang\"]\n",
    "sport_cars = [\"Agera\", \"Regera\", \"Chiron\", \"Veyron\"]\n",
    "planes = [\"A380\", \"747\", \"A370\"]"
   ]
  },
  {
   "cell_type": "code",
   "execution_count": 28,
   "id": "2277c6ca",
   "metadata": {},
   "outputs": [
    {
     "name": "stdout",
     "output_type": "stream",
     "text": [
      "Your type of transportation is a sport cars\n"
     ]
    }
   ],
   "source": [
    "transportation = \"Chiron\"\n",
    "if(transportation in classic_cars):\n",
    "    print (\"Your type of transportation is a classic cars\")\n",
    "if(transportation in sport_cars):\n",
    "    print (\"Your type of transportation is a sport cars\")\n",
    "if(transportation in planes):\n",
    "    print (\"Your type of transportation is a plans\")"
   ]
  },
  {
   "cell_type": "code",
   "execution_count": 30,
   "id": "c4cf0b1e",
   "metadata": {},
   "outputs": [],
   "source": [
    "luxury_cars_and_their_hoursepowers = {\"Phantom\": 414,\n",
    "                                     \"Culinan\": 420,\n",
    "                                     \"Wraith\": 465,\n",
    "                                     \"Ghost\": 420,\n",
    "                                     \"Dawn\": 420}"
   ]
  },
  {
   "cell_type": "code",
   "execution_count": 31,
   "id": "21d7b94a",
   "metadata": {},
   "outputs": [
    {
     "name": "stdout",
     "output_type": "stream",
     "text": [
      "The Phantom is in luxury_cars_and_their_hoursepowers\n"
     ]
    }
   ],
   "source": [
    "if \"Phantom\" in luxury_cars_and_their_hoursepowers:\n",
    "    print(\"The Phantom is in luxury_cars_and_their_hoursepowers\")"
   ]
  },
  {
   "cell_type": "code",
   "execution_count": 32,
   "id": "4acafe8b",
   "metadata": {},
   "outputs": [
    {
     "name": "stdout",
     "output_type": "stream",
     "text": [
      "The Phantom is in luxury_cars_and_their_hoursepowers\n"
     ]
    }
   ],
   "source": [
    "if \"Maybach\" not in luxury_cars_and_their_hoursepowers:\n",
    "    print(\"The Phantom is in luxury_cars_and_their_hoursepowers\")"
   ]
  },
  {
   "cell_type": "code",
   "execution_count": 35,
   "id": "c64c3160",
   "metadata": {},
   "outputs": [
    {
     "name": "stdout",
     "output_type": "stream",
     "text": [
      "You did greate at math 90\n"
     ]
    }
   ],
   "source": [
    "math_score = 90\n",
    "if math_score < 20:\n",
    "    print (\"I'm afraid that is not a great score\", math_score)\n",
    "elif math_score < 50:\n",
    "    print (\"Oh you can definitely better than this\", math_score)\n",
    "elif math_score < 80:\n",
    "    print (\"Ah you're close to the highest grade you can get\", math_score)\n",
    "elif math_score < 100:\n",
    "    print (\"You did greate at math\", math_score)"
   ]
  },
  {
   "cell_type": "code",
   "execution_count": null,
   "id": "ea92afb9",
   "metadata": {},
   "outputs": [],
   "source": []
  },
  {
   "cell_type": "code",
   "execution_count": null,
   "id": "75ac6630",
   "metadata": {},
   "outputs": [],
   "source": []
  }
 ],
 "metadata": {
  "kernelspec": {
   "display_name": "Python 3",
   "language": "python",
   "name": "python3"
  },
  "language_info": {
   "codemirror_mode": {
    "name": "ipython",
    "version": 3
   },
   "file_extension": ".py",
   "mimetype": "text/x-python",
   "name": "python",
   "nbconvert_exporter": "python",
   "pygments_lexer": "ipython3",
   "version": "3.8.16"
  }
 },
 "nbformat": 4,
 "nbformat_minor": 5
}
