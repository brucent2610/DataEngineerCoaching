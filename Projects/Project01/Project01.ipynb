{
 "cells": [
  {
   "cell_type": "code",
   "execution_count": 2,
   "id": "e92d844f",
   "metadata": {},
   "outputs": [
    {
     "data": {
      "text/plain": [
       "True"
      ]
     },
     "execution_count": 2,
     "metadata": {},
     "output_type": "execute_result"
    }
   ],
   "source": [
    "import matplotlib\n",
    "import matplotlib.pyplot as plt\n",
    "import numpy as np\n",
    "import pandas as pd\n",
    "\n",
    "plt.ion()\n",
    "matplotlib.is_interactive()"
   ]
  },
  {
   "cell_type": "code",
   "execution_count": 3,
   "id": "aad91e9e",
   "metadata": {},
   "outputs": [],
   "source": [
    "ecomrce_purchases_data = pd.read_csv(\"./data/Ecommerce_Purchases.csv\")"
   ]
  },
  {
   "cell_type": "code",
   "execution_count": 4,
   "id": "f713ff5b",
   "metadata": {},
   "outputs": [
    {
     "data": {
      "text/html": [
       "<div>\n",
       "<style scoped>\n",
       "    .dataframe tbody tr th:only-of-type {\n",
       "        vertical-align: middle;\n",
       "    }\n",
       "\n",
       "    .dataframe tbody tr th {\n",
       "        vertical-align: top;\n",
       "    }\n",
       "\n",
       "    .dataframe thead th {\n",
       "        text-align: right;\n",
       "    }\n",
       "</style>\n",
       "<table border=\"1\" class=\"dataframe\">\n",
       "  <thead>\n",
       "    <tr style=\"text-align: right;\">\n",
       "      <th></th>\n",
       "      <th>Address</th>\n",
       "      <th>Lot</th>\n",
       "      <th>AM or PM</th>\n",
       "      <th>Browser Info</th>\n",
       "      <th>Company</th>\n",
       "      <th>Credit Card</th>\n",
       "      <th>CC Exp Date</th>\n",
       "      <th>CC Security Code</th>\n",
       "      <th>CC Provider</th>\n",
       "      <th>Email</th>\n",
       "      <th>Job</th>\n",
       "      <th>IP Address</th>\n",
       "      <th>Language</th>\n",
       "      <th>Purchase Price</th>\n",
       "    </tr>\n",
       "  </thead>\n",
       "  <tbody>\n",
       "    <tr>\n",
       "      <th>0</th>\n",
       "      <td>16629 Pace Camp Apt. 448\\nAlexisborough, NE 77...</td>\n",
       "      <td>46 in</td>\n",
       "      <td>PM</td>\n",
       "      <td>Opera/9.56.(X11; Linux x86_64; sl-SI) Presto/2...</td>\n",
       "      <td>Martinez-Herman</td>\n",
       "      <td>6011929061123406</td>\n",
       "      <td>02/20</td>\n",
       "      <td>900</td>\n",
       "      <td>JCB 16 digit</td>\n",
       "      <td>pdunlap@yahoo.com</td>\n",
       "      <td>Scientist, product/process development</td>\n",
       "      <td>149.146.147.205</td>\n",
       "      <td>el</td>\n",
       "      <td>98.14</td>\n",
       "    </tr>\n",
       "    <tr>\n",
       "      <th>1</th>\n",
       "      <td>9374 Jasmine Spurs Suite 508\\nSouth John, TN 8...</td>\n",
       "      <td>28 rn</td>\n",
       "      <td>PM</td>\n",
       "      <td>Opera/8.93.(Windows 98; Win 9x 4.90; en-US) Pr...</td>\n",
       "      <td>Fletcher, Richards and Whitaker</td>\n",
       "      <td>3337758169645356</td>\n",
       "      <td>11/18</td>\n",
       "      <td>561</td>\n",
       "      <td>Mastercard</td>\n",
       "      <td>anthony41@reed.com</td>\n",
       "      <td>Drilling engineer</td>\n",
       "      <td>15.160.41.51</td>\n",
       "      <td>fr</td>\n",
       "      <td>70.73</td>\n",
       "    </tr>\n",
       "    <tr>\n",
       "      <th>2</th>\n",
       "      <td>Unit 0065 Box 5052\\nDPO AP 27450</td>\n",
       "      <td>94 vE</td>\n",
       "      <td>PM</td>\n",
       "      <td>Mozilla/5.0 (compatible; MSIE 9.0; Windows NT ...</td>\n",
       "      <td>Simpson, Williams and Pham</td>\n",
       "      <td>675957666125</td>\n",
       "      <td>08/19</td>\n",
       "      <td>699</td>\n",
       "      <td>JCB 16 digit</td>\n",
       "      <td>amymiller@morales-harrison.com</td>\n",
       "      <td>Customer service manager</td>\n",
       "      <td>132.207.160.22</td>\n",
       "      <td>de</td>\n",
       "      <td>0.95</td>\n",
       "    </tr>\n",
       "    <tr>\n",
       "      <th>3</th>\n",
       "      <td>7780 Julia Fords\\nNew Stacy, WA 45798</td>\n",
       "      <td>36 vm</td>\n",
       "      <td>PM</td>\n",
       "      <td>Mozilla/5.0 (Macintosh; Intel Mac OS X 10_8_0 ...</td>\n",
       "      <td>Williams, Marshall and Buchanan</td>\n",
       "      <td>6011578504430710</td>\n",
       "      <td>02/24</td>\n",
       "      <td>384</td>\n",
       "      <td>Discover</td>\n",
       "      <td>brent16@olson-robinson.info</td>\n",
       "      <td>Drilling engineer</td>\n",
       "      <td>30.250.74.19</td>\n",
       "      <td>es</td>\n",
       "      <td>78.04</td>\n",
       "    </tr>\n",
       "    <tr>\n",
       "      <th>4</th>\n",
       "      <td>23012 Munoz Drive Suite 337\\nNew Cynthia, TX 5...</td>\n",
       "      <td>20 IE</td>\n",
       "      <td>AM</td>\n",
       "      <td>Opera/9.58.(X11; Linux x86_64; it-IT) Presto/2...</td>\n",
       "      <td>Brown, Watson and Andrews</td>\n",
       "      <td>6011456623207998</td>\n",
       "      <td>10/25</td>\n",
       "      <td>678</td>\n",
       "      <td>Diners Club / Carte Blanche</td>\n",
       "      <td>christopherwright@gmail.com</td>\n",
       "      <td>Fine artist</td>\n",
       "      <td>24.140.33.94</td>\n",
       "      <td>es</td>\n",
       "      <td>77.82</td>\n",
       "    </tr>\n",
       "  </tbody>\n",
       "</table>\n",
       "</div>"
      ],
      "text/plain": [
       "                                             Address    Lot AM or PM  \\\n",
       "0  16629 Pace Camp Apt. 448\\nAlexisborough, NE 77...  46 in       PM   \n",
       "1  9374 Jasmine Spurs Suite 508\\nSouth John, TN 8...  28 rn       PM   \n",
       "2                   Unit 0065 Box 5052\\nDPO AP 27450  94 vE       PM   \n",
       "3              7780 Julia Fords\\nNew Stacy, WA 45798  36 vm       PM   \n",
       "4  23012 Munoz Drive Suite 337\\nNew Cynthia, TX 5...  20 IE       AM   \n",
       "\n",
       "                                        Browser Info  \\\n",
       "0  Opera/9.56.(X11; Linux x86_64; sl-SI) Presto/2...   \n",
       "1  Opera/8.93.(Windows 98; Win 9x 4.90; en-US) Pr...   \n",
       "2  Mozilla/5.0 (compatible; MSIE 9.0; Windows NT ...   \n",
       "3  Mozilla/5.0 (Macintosh; Intel Mac OS X 10_8_0 ...   \n",
       "4  Opera/9.58.(X11; Linux x86_64; it-IT) Presto/2...   \n",
       "\n",
       "                           Company       Credit Card CC Exp Date  \\\n",
       "0                  Martinez-Herman  6011929061123406       02/20   \n",
       "1  Fletcher, Richards and Whitaker  3337758169645356       11/18   \n",
       "2       Simpson, Williams and Pham      675957666125       08/19   \n",
       "3  Williams, Marshall and Buchanan  6011578504430710       02/24   \n",
       "4        Brown, Watson and Andrews  6011456623207998       10/25   \n",
       "\n",
       "   CC Security Code                  CC Provider  \\\n",
       "0               900                 JCB 16 digit   \n",
       "1               561                   Mastercard   \n",
       "2               699                 JCB 16 digit   \n",
       "3               384                     Discover   \n",
       "4               678  Diners Club / Carte Blanche   \n",
       "\n",
       "                            Email                                     Job  \\\n",
       "0               pdunlap@yahoo.com  Scientist, product/process development   \n",
       "1              anthony41@reed.com                       Drilling engineer   \n",
       "2  amymiller@morales-harrison.com                Customer service manager   \n",
       "3     brent16@olson-robinson.info                       Drilling engineer   \n",
       "4     christopherwright@gmail.com                             Fine artist   \n",
       "\n",
       "        IP Address Language  Purchase Price  \n",
       "0  149.146.147.205       el           98.14  \n",
       "1     15.160.41.51       fr           70.73  \n",
       "2   132.207.160.22       de            0.95  \n",
       "3     30.250.74.19       es           78.04  \n",
       "4     24.140.33.94       es           77.82  "
      ]
     },
     "execution_count": 4,
     "metadata": {},
     "output_type": "execute_result"
    }
   ],
   "source": [
    "ecomrce_purchases_data.head()"
   ]
  },
  {
   "cell_type": "markdown",
   "id": "66c4704f",
   "metadata": {},
   "source": [
    "# Find the relationship between top 5 Job designation and total Purchase amount"
   ]
  },
  {
   "cell_type": "code",
   "execution_count": 5,
   "id": "72c0aeb9",
   "metadata": {},
   "outputs": [
    {
     "data": {
      "text/html": [
       "<div>\n",
       "<style scoped>\n",
       "    .dataframe tbody tr th:only-of-type {\n",
       "        vertical-align: middle;\n",
       "    }\n",
       "\n",
       "    .dataframe tbody tr th {\n",
       "        vertical-align: top;\n",
       "    }\n",
       "\n",
       "    .dataframe thead th {\n",
       "        text-align: right;\n",
       "    }\n",
       "</style>\n",
       "<table border=\"1\" class=\"dataframe\">\n",
       "  <thead>\n",
       "    <tr style=\"text-align: right;\">\n",
       "      <th></th>\n",
       "      <th>Purchase Price</th>\n",
       "    </tr>\n",
       "    <tr>\n",
       "      <th>Job</th>\n",
       "      <th></th>\n",
       "    </tr>\n",
       "  </thead>\n",
       "  <tbody>\n",
       "    <tr>\n",
       "      <th>Dietitian</th>\n",
       "      <td>1605.30</td>\n",
       "    </tr>\n",
       "    <tr>\n",
       "      <th>Lawyer</th>\n",
       "      <td>1603.85</td>\n",
       "    </tr>\n",
       "    <tr>\n",
       "      <th>Purchasing manager</th>\n",
       "      <td>1577.97</td>\n",
       "    </tr>\n",
       "    <tr>\n",
       "      <th>Therapist, art</th>\n",
       "      <td>1526.31</td>\n",
       "    </tr>\n",
       "    <tr>\n",
       "      <th>Clinical cytogeneticist</th>\n",
       "      <td>1495.92</td>\n",
       "    </tr>\n",
       "  </tbody>\n",
       "</table>\n",
       "</div>"
      ],
      "text/plain": [
       "                         Purchase Price\n",
       "Job                                    \n",
       "Dietitian                       1605.30\n",
       "Lawyer                          1603.85\n",
       "Purchasing manager              1577.97\n",
       "Therapist, art                  1526.31\n",
       "Clinical cytogeneticist         1495.92"
      ]
     },
     "execution_count": 5,
     "metadata": {},
     "output_type": "execute_result"
    }
   ],
   "source": [
    "ecomrce_purchases_job_sum = ecomrce_purchases_data[[\"Job\", \"Purchase Price\"]].groupby(\"Job\").agg({'Purchase Price': np.sum})\n",
    "ecomrce_purchases_job_top_5 = ecomrce_purchases_job_sum.sort_values(by=['Purchase Price'], ascending=False).head(5)\n",
    "ecomrce_purchases_job_top_5"
   ]
  },
  {
   "cell_type": "code",
   "execution_count": 6,
   "id": "a679ae2f",
   "metadata": {},
   "outputs": [
    {
     "data": {
      "image/png": "[encoded data removed]",
      "text/plain": [
       "<Figure size 432x288 with 1 Axes>"
      ]
     },
     "metadata": {
      "needs_background": "light"
     },
     "output_type": "display_data"
    }
   ],
   "source": [
    "fig = plt.figure()\n",
    "\n",
    "y = ecomrce_purchases_job_top_5.index\n",
    "x = ecomrce_purchases_job_top_5[\"Purchase Price\"]\n",
    "\n",
    "colors = ['blue','orange','green','red','purple']\n",
    "\n",
    "plt.bar(y, x, color=colors)\n",
    "\n",
    "y_pos = np.arange(len(y))\n",
    "\n",
    "plt.xlabel(\"Profession\")\n",
    "plt.ylabel(\"Total Purchase\")\n",
    "\n",
    "plt.xticks(y_pos, y, rotation=75)\n",
    "\n",
    "plt.show()"
   ]
  },
  {
   "cell_type": "markdown",
   "id": "feae6ccf",
   "metadata": {},
   "source": [
    "# Find the relationship between Job designation and mean Purchase amount"
   ]
  },
  {
   "cell_type": "code",
   "execution_count": 132,
   "id": "bd61a785",
   "metadata": {},
   "outputs": [
    {
     "data": {
      "text/html": [
       "<div>\n",
       "<style scoped>\n",
       "    .dataframe tbody tr th:only-of-type {\n",
       "        vertical-align: middle;\n",
       "    }\n",
       "\n",
       "    .dataframe tbody tr th {\n",
       "        vertical-align: top;\n",
       "    }\n",
       "\n",
       "    .dataframe thead th {\n",
       "        text-align: right;\n",
       "    }\n",
       "</style>\n",
       "<table border=\"1\" class=\"dataframe\">\n",
       "  <thead>\n",
       "    <tr style=\"text-align: right;\">\n",
       "      <th></th>\n",
       "      <th>Purchase Price</th>\n",
       "    </tr>\n",
       "    <tr>\n",
       "      <th>Job</th>\n",
       "      <th></th>\n",
       "    </tr>\n",
       "  </thead>\n",
       "  <tbody>\n",
       "    <tr>\n",
       "      <th>Trade mark attorney</th>\n",
       "      <td>73.802727</td>\n",
       "    </tr>\n",
       "    <tr>\n",
       "      <th>Translator</th>\n",
       "      <td>70.777647</td>\n",
       "    </tr>\n",
       "    <tr>\n",
       "      <th>Investment analyst</th>\n",
       "      <td>69.090000</td>\n",
       "    </tr>\n",
       "    <tr>\n",
       "      <th>Accountant, chartered management</th>\n",
       "      <td>69.082667</td>\n",
       "    </tr>\n",
       "    <tr>\n",
       "      <th>Designer, industrial/product</th>\n",
       "      <td>68.714667</td>\n",
       "    </tr>\n",
       "  </tbody>\n",
       "</table>\n",
       "</div>"
      ],
      "text/plain": [
       "                                  Purchase Price\n",
       "Job                                             \n",
       "Trade mark attorney                    73.802727\n",
       "Translator                             70.777647\n",
       "Investment analyst                     69.090000\n",
       "Accountant, chartered management       69.082667\n",
       "Designer, industrial/product           68.714667"
      ]
     },
     "execution_count": 132,
     "metadata": {},
     "output_type": "execute_result"
    }
   ],
   "source": [
    "ecomrce_purchases_job_mean = ecomrce_purchases_data[[\"Job\", \"Purchase Price\"]].groupby(\"Job\").agg({'Purchase Price': np.mean})\n",
    "ecomrce_purchases_job_top_5_mean = ecomrce_purchases_job_mean.sort_values(by=['Purchase Price'], ascending=False).head(5)\n",
    "ecomrce_purchases_job_top_5_mean"
   ]
  },
  {
   "cell_type": "code",
   "execution_count": 133,
   "id": "885b6ef0",
   "metadata": {},
   "outputs": [
    {
     "data": {
      "image/png": "[encoded data removed]",
      "text/plain": [
       "<Figure size 432x288 with 1 Axes>"
      ]
     },
     "metadata": {
      "needs_background": "light"
     },
     "output_type": "display_data"
    }
   ],
   "source": [
    "fig = plt.figure()\n",
    "\n",
    "y = ecomrce_purchases_job_top_5_mean.index\n",
    "x = ecomrce_purchases_job_top_5_mean[\"Purchase Price\"]\n",
    "\n",
    "colors = ['blue','orange','green','red','purple']\n",
    "\n",
    "plt.bar(y, x, color=colors)\n",
    "\n",
    "y_pos = np.arange(len(y))\n",
    "\n",
    "plt.xlabel(\"Professional\")\n",
    "plt.ylabel(\"Avg Purchase\")\n",
    "\n",
    "plt.xticks(y_pos, y, rotation=75)\n",
    "\n",
    "plt.show()"
   ]
  },
  {
   "cell_type": "markdown",
   "id": "e2c96e29",
   "metadata": {},
   "source": [
    "# How does purchase value depend on the Internet Browser used and Job (Profession) of the purchaser?"
   ]
  },
  {
   "cell_type": "code",
   "execution_count": 158,
   "id": "daaaf677",
   "metadata": {},
   "outputs": [],
   "source": [
    "ecomrce_purchases_data[\"Browser\"] = pd.Series(ecomrce_purchases_data[\"Browser Info\"]).str.split(\"/\").str[0]\n",
    "\n",
    "ecomrce_purchases_job_count = ecomrce_purchases_data[[\"Job\", \"Purchase Price\"]].groupby(\"Job\").agg(\"count\")\n",
    "ecomrce_purchases_job_count_top_5 = ecomrce_purchases_job_count.sort_values(by=['Purchase Price'], ascending=False).head(5)\n",
    "jobs = ecomrce_purchases_job_count_top_5.index\n",
    "\n",
    "browsers = ecomrce_purchases_data[\"Browser\"].drop_duplicates().values\n",
    "\n",
    "ecomrce_purchases_job_count_by_browsers = []\n",
    "for i in browsers:\n",
    "    ecomrce_purchases_job_count_browser = ecomrce_purchases_data[ecomrce_purchases_data[\"Browser\"] == i][[\"Job\", \"Purchase Price\"]].groupby([\"Job\"]).agg(\"sum\")\n",
    "    item = ecomrce_purchases_job_count_browser.filter(items=jobs, axis=0) \n",
    "    ecomrce_purchases_job_count_by_browsers.append(item)"
   ]
  },
  {
   "cell_type": "code",
   "execution_count": 159,
   "id": "49ce825a",
   "metadata": {},
   "outputs": [
    {
     "data": {
      "image/png": "[encoded data removed]",
      "text/plain": [
       "<Figure size 432x288 with 1 Axes>"
      ]
     },
     "metadata": {
      "needs_background": "light"
     },
     "output_type": "display_data"
    }
   ],
   "source": [
    "Y_axis = np.arange(len(states))\n",
    "\n",
    "for i in range(len(browsers)):\n",
    "    if(i % 2 == 0):\n",
    "        pos = (-1) *(0.2)\n",
    "    else:\n",
    "        pos = (0.2)\n",
    "    plt.barh(Y_axis + pos, ecomrce_purchases_job_count_by_browsers[i][\"Purchase Price\"], 0.4, label = browsers[i])\n",
    "  \n",
    "plt.yticks(Y_axis, jobs)\n",
    "plt.xlabel(\"Total Count of Purchases\")\n",
    "plt.ylabel(\"Total ordering state\")\n",
    "plt.title(\"Most purchases done by State (locations) and time\")\n",
    "plt.legend()\n",
    "plt.show()"
   ]
  },
  {
   "cell_type": "code",
   "execution_count": 148,
   "id": "30218b86",
   "metadata": {},
   "outputs": [
    {
     "name": "stdout",
     "output_type": "stream",
     "text": [
      "                         Purchase Price\n",
      "Job                                    \n",
      "Dietitian                        332.58\n",
      "Lawyer                           530.88\n",
      "Purchasing manager               498.32\n",
      "Therapist, art                   433.37\n",
      "Clinical cytogeneticist           87.42\n",
      "                         Purchase Price\n",
      "Job                                    \n",
      "Dietitian                       1272.72\n",
      "Lawyer                          1072.97\n",
      "Purchasing manager              1079.65\n",
      "Therapist, art                  1092.94\n",
      "Clinical cytogeneticist         1408.50\n"
     ]
    }
   ],
   "source": [
    "ecomrce_purchases_data[\"Browser\"] = pd.Series(ecomrce_purchases_data[\"Browser Info\"]).str.split(\"/\").str[0]\n",
    "\n",
    "ecomrce_purchases_job_sum = ecomrce_purchases_data[[\"Job\", \"Purchase Price\"]].groupby(\"Job\").agg({'Purchase Price': np.sum})\n",
    "ecomrce_purchases_job_top_5 = ecomrce_purchases_job_sum.sort_values(by=['Purchase Price'], ascending=False).head(5)\n",
    "jobs = ecomrce_purchases_job_top_5.index\n",
    "\n",
    "browsers = ecomrce_purchases_data[\"Browser\"].drop_duplicates().values\n",
    "\n",
    "ecomrce_purchases_job_by_browsers = []\n",
    "for i in browsers:\n",
    "    ecomrce_purchases_job_time_browser = ecomrce_purchases_data[ecomrce_purchases_data[\"Browser\"] == i][[\"Job\", \"Purchase Price\"]].groupby([\"Job\"]).agg(\"sum\")\n",
    "    item = ecomrce_purchases_job_time_browser.filter(items=jobs, axis=0) \n",
    "    ecomrce_purchases_job_by_browsers.append(item)\n",
    "    print(item)"
   ]
  },
  {
   "cell_type": "code",
   "execution_count": 156,
   "id": "3181063e",
   "metadata": {},
   "outputs": [
    {
     "name": "stdout",
     "output_type": "stream",
     "text": [
      "-0.2\n",
      "0.2\n"
     ]
    },
    {
     "data": {
      "image/png": "[encoded data removed]",
      "text/plain": [
       "<Figure size 432x288 with 1 Axes>"
      ]
     },
     "metadata": {
      "needs_background": "light"
     },
     "output_type": "display_data"
    }
   ],
   "source": [
    "Y_axis = np.arange(len(states))\n",
    "\n",
    "for i in range(len(browsers)):\n",
    "    if(i % 2 == 0):\n",
    "        pos = (-1) *(0.2)\n",
    "    else:\n",
    "        pos = (0.2)\n",
    "    print(pos)\n",
    "    plt.barh(Y_axis + pos, ecomrce_purchases_job_by_browsers[i][\"Purchase Price\"], 0.4, label = browsers[i])\n",
    "  \n",
    "plt.yticks(Y_axis, jobs)\n",
    "plt.xlabel(\"Total Count of Purchases\")\n",
    "plt.ylabel(\"Total ordering state\")\n",
    "plt.title(\"Most purchases done by State (locations) and time\")\n",
    "plt.legend()\n",
    "plt.show()"
   ]
  },
  {
   "cell_type": "markdown",
   "id": "0eabb97d",
   "metadata": {},
   "source": [
    "# What are the patterns, if any, on the purchases based on Location (State) and time of purchase (AM or PM)?"
   ]
  },
  {
   "cell_type": "code",
   "execution_count": 102,
   "id": "731c0863",
   "metadata": {},
   "outputs": [
    {
     "name": "stdout",
     "output_type": "stream",
     "text": [
      "Number purchase in AM by State\n",
      "        Purchase Price\n",
      "State                \n",
      "AP           10456.75\n",
      "AA            8716.44\n",
      "AE            8589.00\n",
      "IN            4222.81\n",
      "VI            3725.96\n",
      "Number purchase in PM by State\n",
      "        Purchase Price\n",
      "State                \n",
      "AP            9107.23\n",
      "AA            9380.43\n",
      "AE            7798.21\n",
      "IN            5192.59\n",
      "VI            4578.66\n"
     ]
    },
    {
     "data": {
      "text/html": [
       "<div>\n",
       "<style scoped>\n",
       "    .dataframe tbody tr th:only-of-type {\n",
       "        vertical-align: middle;\n",
       "    }\n",
       "\n",
       "    .dataframe tbody tr th {\n",
       "        vertical-align: top;\n",
       "    }\n",
       "\n",
       "    .dataframe thead th {\n",
       "        text-align: right;\n",
       "    }\n",
       "</style>\n",
       "<table border=\"1\" class=\"dataframe\">\n",
       "  <thead>\n",
       "    <tr style=\"text-align: right;\">\n",
       "      <th></th>\n",
       "      <th>Purchase Price</th>\n",
       "    </tr>\n",
       "    <tr>\n",
       "      <th>State</th>\n",
       "      <th></th>\n",
       "    </tr>\n",
       "  </thead>\n",
       "  <tbody>\n",
       "    <tr>\n",
       "      <th>AP</th>\n",
       "      <td>9107.23</td>\n",
       "    </tr>\n",
       "    <tr>\n",
       "      <th>AA</th>\n",
       "      <td>9380.43</td>\n",
       "    </tr>\n",
       "    <tr>\n",
       "      <th>AE</th>\n",
       "      <td>7798.21</td>\n",
       "    </tr>\n",
       "    <tr>\n",
       "      <th>IN</th>\n",
       "      <td>5192.59</td>\n",
       "    </tr>\n",
       "    <tr>\n",
       "      <th>VI</th>\n",
       "      <td>4578.66</td>\n",
       "    </tr>\n",
       "  </tbody>\n",
       "</table>\n",
       "</div>"
      ],
      "text/plain": [
       "       Purchase Price\n",
       "State                \n",
       "AP            9107.23\n",
       "AA            9380.43\n",
       "AE            7798.21\n",
       "IN            5192.59\n",
       "VI            4578.66"
      ]
     },
     "execution_count": 102,
     "metadata": {},
     "output_type": "execute_result"
    }
   ],
   "source": [
    "ecomrce_purchases_data[\"State\"] = ecomrce_purchases_data[\"Address\"].apply(lambda x: x.split(\",\")[-1].split()[-2])\n",
    "ecomrce_purchases_state_time = ecomrce_purchases_data[[\"State\", \"Purchase Price\"]].groupby([\"State\"]).agg(\"count\")\n",
    "ecomrce_purchases_state_time_top_5 = ecomrce_purchases_state_time.sort_values(by=['Purchase Price'], ascending=False).head(5)\n",
    "states = ecomrce_purchases_state_time_top_5.index\n",
    "\n",
    "ecomrce_purchases_state_time_am = ecomrce_purchases_data[ecomrce_purchases_data[\"AM or PM\"] == \"AM\"][[\"State\", \"Purchase Price\"]].groupby([\"State\"]).agg(\"sum\")\n",
    "am = ecomrce_purchases_state_time_am.filter(items=states, axis=0)\n",
    "\n",
    "ecomrce_purchases_state_time_pm = ecomrce_purchases_data[ecomrce_purchases_data[\"AM or PM\"] == \"PM\"][[\"State\", \"Purchase Price\"]].groupby([\"State\"]).agg(\"sum\")\n",
    "pm = ecomrce_purchases_state_time_pm.filter(items=states, axis=0) \n",
    "\n",
    "print(\"Number purchase in AM by State\\n\", am)\n",
    "am\n",
    "print(\"Number purchase in PM by State\\n\", pm)\n",
    "pm"
   ]
  },
  {
   "cell_type": "code",
   "execution_count": 103,
   "id": "f6278be6",
   "metadata": {},
   "outputs": [
    {
     "data": {
      "image/png": "[encoded data removed]",
      "text/plain": [
       "<Figure size 432x288 with 1 Axes>"
      ]
     },
     "metadata": {
      "needs_background": "light"
     },
     "output_type": "display_data"
    }
   ],
   "source": [
    "Y_axis = np.arange(len(states))\n",
    "\n",
    "plt.barh(Y_axis + 0.2, am[\"Purchase Price\"], 0.4, label = 'AM')\n",
    "plt.barh(Y_axis - 0.2, pm[\"Purchase Price\"], 0.4, label = 'PM')\n",
    "  \n",
    "plt.yticks(Y_axis, states)\n",
    "plt.xlabel(\"Total Count of Purchases\")\n",
    "plt.ylabel(\"Total ordering state\")\n",
    "plt.title(\"Most purchases done by State (locations) and time\")\n",
    "plt.legend()\n",
    "plt.show()"
   ]
  },
  {
   "cell_type": "markdown",
   "id": "2bae5b6f",
   "metadata": {},
   "source": [
    "# How does purchase depend on ‘CC’ provider and time of purchase ‘AM or PM’?"
   ]
  },
  {
   "cell_type": "code",
   "execution_count": 109,
   "id": "93877052",
   "metadata": {},
   "outputs": [],
   "source": [
    "ecomrce_purchases_ccprovider_time = ecomrce_purchases_data[[\"CC Provider\", \"Purchase Price\"]].groupby([\"CC Provider\"]).agg(\"count\")\n",
    "ccproviders = ecomrce_purchases_ccprovider_time.index\n",
    "\n",
    "ecomrce_count_ccproviders_time_am = ecomrce_purchases_data[ecomrce_purchases_data[\"AM or PM\"] == \"AM\"][[\"CC Provider\", \"Purchase Price\"]].groupby([\"CC Provider\"]).agg(\"sum\")\n",
    "am = ecomrce_count_ccproviders_time_am.filter(items=ccproviders, axis=0)\n",
    "\n",
    "ecomrce_count_ccproviders_time_pm = ecomrce_purchases_data[ecomrce_purchases_data[\"AM or PM\"] == \"PM\"][[\"CC Provider\", \"Purchase Price\"]].groupby([\"CC Provider\"]).agg(\"sum\")\n",
    "pm = ecomrce_count_ccproviders_time_pm.filter(items=ccproviders, axis=0)"
   ]
  },
  {
   "cell_type": "code",
   "execution_count": 108,
   "id": "73e83fe4",
   "metadata": {},
   "outputs": [
    {
     "data": {
      "image/png": "[encoded data removed]",
      "text/plain": [
       "<Figure size 432x288 with 1 Axes>"
      ]
     },
     "metadata": {
      "needs_background": "light"
     },
     "output_type": "display_data"
    }
   ],
   "source": [
    "Y_axis = np.arange(len(ccproviders))\n",
    "\n",
    "plt.barh(Y_axis + 0.2, am[\"Purchase Price\"], 0.4, label = 'AM')\n",
    "plt.barh(Y_axis - 0.2, pm[\"Purchase Price\"], 0.4, label = 'PM')\n",
    "  \n",
    "plt.yticks(Y_axis, ccproviders)\n",
    "plt.xlabel(\"Number of Orders\")\n",
    "plt.ylabel(\"CC Providers\")\n",
    "plt.title(\"CC Providers usage count at different time\")\n",
    "plt.legend()\n",
    "plt.show()"
   ]
  },
  {
   "cell_type": "code",
   "execution_count": 110,
   "id": "d0712e25",
   "metadata": {},
   "outputs": [],
   "source": [
    "ecomrce_purchases_ccprovider_time = ecomrce_purchases_data[[\"CC Provider\", \"Purchase Price\"]].groupby([\"CC Provider\"]).agg(\"sum\")\n",
    "ccproviders = ecomrce_purchases_ccprovider_time.index\n",
    "\n",
    "ecomrce_count_ccproviders_time_am = ecomrce_purchases_data[ecomrce_purchases_data[\"AM or PM\"] == \"AM\"][[\"CC Provider\", \"Purchase Price\"]].groupby([\"CC Provider\"]).agg(\"sum\")\n",
    "am = ecomrce_count_ccproviders_time_am.filter(items=ccproviders, axis=0)\n",
    "\n",
    "ecomrce_count_ccproviders_time_pm = ecomrce_purchases_data[ecomrce_purchases_data[\"AM or PM\"] == \"PM\"][[\"CC Provider\", \"Purchase Price\"]].groupby([\"CC Provider\"]).agg(\"sum\")\n",
    "pm = ecomrce_count_ccproviders_time_pm.filter(items=ccproviders, axis=0)"
   ]
  },
  {
   "cell_type": "code",
   "execution_count": 111,
   "id": "3e666e78",
   "metadata": {},
   "outputs": [
    {
     "data": {
      "image/png": "[encoded data removed]",
      "text/plain": [
       "<Figure size 432x288 with 1 Axes>"
      ]
     },
     "metadata": {
      "needs_background": "light"
     },
     "output_type": "display_data"
    }
   ],
   "source": [
    "Y_axis = np.arange(len(ccproviders))\n",
    "\n",
    "plt.barh(Y_axis + 0.2, am[\"Purchase Price\"], 0.4, label = 'AM')\n",
    "plt.barh(Y_axis - 0.2, pm[\"Purchase Price\"], 0.4, label = 'PM')\n",
    "  \n",
    "plt.yticks(Y_axis, ccproviders)\n",
    "plt.xlabel(\"Purchase Values\")\n",
    "plt.ylabel(\"CC Providers\")\n",
    "plt.title(\"CC Providers usage count at different time\")\n",
    "plt.legend()\n",
    "plt.show()"
   ]
  },
  {
   "cell_type": "markdown",
   "id": "441c8ea3",
   "metadata": {},
   "source": [
    "# What are top 5 Location(State) for purchases?"
   ]
  },
  {
   "cell_type": "code",
   "execution_count": 115,
   "id": "e30eb420",
   "metadata": {},
   "outputs": [
    {
     "data": {
      "text/html": [
       "<div>\n",
       "<style scoped>\n",
       "    .dataframe tbody tr th:only-of-type {\n",
       "        vertical-align: middle;\n",
       "    }\n",
       "\n",
       "    .dataframe tbody tr th {\n",
       "        vertical-align: top;\n",
       "    }\n",
       "\n",
       "    .dataframe thead th {\n",
       "        text-align: right;\n",
       "    }\n",
       "</style>\n",
       "<table border=\"1\" class=\"dataframe\">\n",
       "  <thead>\n",
       "    <tr style=\"text-align: right;\">\n",
       "      <th></th>\n",
       "      <th>Purchase Price</th>\n",
       "    </tr>\n",
       "    <tr>\n",
       "      <th>State</th>\n",
       "      <th></th>\n",
       "    </tr>\n",
       "  </thead>\n",
       "  <tbody>\n",
       "    <tr>\n",
       "      <th>AP</th>\n",
       "      <td>376</td>\n",
       "    </tr>\n",
       "    <tr>\n",
       "      <th>AA</th>\n",
       "      <td>351</td>\n",
       "    </tr>\n",
       "    <tr>\n",
       "      <th>AE</th>\n",
       "      <td>331</td>\n",
       "    </tr>\n",
       "    <tr>\n",
       "      <th>IN</th>\n",
       "      <td>183</td>\n",
       "    </tr>\n",
       "    <tr>\n",
       "      <th>VI</th>\n",
       "      <td>178</td>\n",
       "    </tr>\n",
       "  </tbody>\n",
       "</table>\n",
       "</div>"
      ],
      "text/plain": [
       "       Purchase Price\n",
       "State                \n",
       "AP                376\n",
       "AA                351\n",
       "AE                331\n",
       "IN                183\n",
       "VI                178"
      ]
     },
     "execution_count": 115,
     "metadata": {},
     "output_type": "execute_result"
    }
   ],
   "source": [
    "ecomrce_purchases_data[\"State\"] = ecomrce_purchases_data[\"Address\"].apply(lambda x: x.split(\",\")[-1].split()[-2])\n",
    "ecomrce_purchases_state_count = ecomrce_purchases_data[[\"State\", \"Purchase Price\"]].groupby(\"State\").agg(\"count\")\n",
    "ecomrce_purchases_state_count_top_5 = ecomrce_purchases_state_time.sort_values(by=['Purchase Price'], ascending=False).head(5)\n",
    "ecomrce_purchases_state_count_top_5"
   ]
  },
  {
   "cell_type": "code",
   "execution_count": 119,
   "id": "b06fb637",
   "metadata": {},
   "outputs": [
    {
     "data": {
      "image/png": "[encoded data removed]",
      "text/plain": [
       "<Figure size 432x288 with 1 Axes>"
      ]
     },
     "metadata": {
      "needs_background": "light"
     },
     "output_type": "display_data"
    }
   ],
   "source": [
    "fig = plt.figure()\n",
    "\n",
    "y = ecomrce_purchases_state_count_top_5.index\n",
    "x = ecomrce_purchases_state_count_top_5[\"Purchase Price\"]\n",
    "\n",
    "colors = ['blue','orange','green','red','purple']\n",
    "\n",
    "plt.bar(y, x, color=colors)\n",
    "\n",
    "y_pos = np.arange(len(y))\n",
    "\n",
    "plt.ylabel(\"Total number of Purchases\")\n",
    "\n",
    "plt.xticks(y_pos, y)\n",
    "\n",
    "plt.show()"
   ]
  },
  {
   "cell_type": "code",
   "execution_count": 120,
   "id": "db432735",
   "metadata": {},
   "outputs": [
    {
     "data": {
      "text/html": [
       "<div>\n",
       "<style scoped>\n",
       "    .dataframe tbody tr th:only-of-type {\n",
       "        vertical-align: middle;\n",
       "    }\n",
       "\n",
       "    .dataframe tbody tr th {\n",
       "        vertical-align: top;\n",
       "    }\n",
       "\n",
       "    .dataframe thead th {\n",
       "        text-align: right;\n",
       "    }\n",
       "</style>\n",
       "<table border=\"1\" class=\"dataframe\">\n",
       "  <thead>\n",
       "    <tr style=\"text-align: right;\">\n",
       "      <th></th>\n",
       "      <th>Purchase Price</th>\n",
       "    </tr>\n",
       "    <tr>\n",
       "      <th>State</th>\n",
       "      <th></th>\n",
       "    </tr>\n",
       "  </thead>\n",
       "  <tbody>\n",
       "    <tr>\n",
       "      <th>AP</th>\n",
       "      <td>376</td>\n",
       "    </tr>\n",
       "    <tr>\n",
       "      <th>AA</th>\n",
       "      <td>351</td>\n",
       "    </tr>\n",
       "    <tr>\n",
       "      <th>AE</th>\n",
       "      <td>331</td>\n",
       "    </tr>\n",
       "    <tr>\n",
       "      <th>IN</th>\n",
       "      <td>183</td>\n",
       "    </tr>\n",
       "    <tr>\n",
       "      <th>VI</th>\n",
       "      <td>178</td>\n",
       "    </tr>\n",
       "  </tbody>\n",
       "</table>\n",
       "</div>"
      ],
      "text/plain": [
       "       Purchase Price\n",
       "State                \n",
       "AP                376\n",
       "AA                351\n",
       "AE                331\n",
       "IN                183\n",
       "VI                178"
      ]
     },
     "execution_count": 120,
     "metadata": {},
     "output_type": "execute_result"
    }
   ],
   "source": [
    "ecomrce_purchases_data[\"State\"] = ecomrce_purchases_data[\"Address\"].apply(lambda x: x.split(\",\")[-1].split()[-2])\n",
    "ecomrce_purchases_state_sum = ecomrce_purchases_data[[\"State\", \"Purchase Price\"]].groupby(\"State\").agg(\"sum\")\n",
    "ecomrce_purchases_state_sum_top_5 = ecomrce_purchases_state_time.sort_values(by=['Purchase Price'], ascending=False).head(5)\n",
    "ecomrce_purchases_state_sum_top_5"
   ]
  },
  {
   "cell_type": "code",
   "execution_count": 122,
   "id": "a3d1369f",
   "metadata": {},
   "outputs": [
    {
     "data": {
      "image/png": "[encoded data removed]",
      "text/plain": [
       "<Figure size 432x288 with 1 Axes>"
      ]
     },
     "metadata": {
      "needs_background": "light"
     },
     "output_type": "display_data"
    }
   ],
   "source": [
    "fig = plt.figure()\n",
    "\n",
    "y = ecomrce_purchases_state_sum_top_5.index\n",
    "x = ecomrce_purchases_state_sum_top_5[\"Purchase Price\"]\n",
    "\n",
    "colors = ['blue','orange','green','red','purple']\n",
    "\n",
    "plt.bar(y, x, color=colors)\n",
    "\n",
    "y_pos = np.arange(len(y))\n",
    "\n",
    "plt.ylabel(\"Total value of Purchases\")\n",
    "\n",
    "plt.xticks(y_pos, y)\n",
    "\n",
    "plt.show()"
   ]
  },
  {
   "cell_type": "code",
   "execution_count": null,
   "id": "51eb04a4",
   "metadata": {},
   "outputs": [],
   "source": []
  }
 ],
 "metadata": {
  "kernelspec": {
   "display_name": "Python 3",
   "language": "python",
   "name": "python3"
  },
  "language_info": {
   "codemirror_mode": {
    "name": "ipython",
    "version": 3
   },
   "file_extension": ".py",
   "mimetype": "text/x-python",
   "name": "python",
   "nbconvert_exporter": "python",
   "pygments_lexer": "ipython3",
   "version": "3.8.16"
  }
 },
 "nbformat": 4,
 "nbformat_minor": 5
}
